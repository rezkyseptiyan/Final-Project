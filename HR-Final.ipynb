{
 "cells": [
  {
   "cell_type": "markdown",
   "metadata": {},
   "source": [
    "# Introduction"
   ]
  },
  {
   "cell_type": "markdown",
   "metadata": {},
   "source": [
    "**Tujuan**\n",
    "* Meningkatkan kecepatan dan efektivitas dalam proses evaluasi promosi karyawan \n",
    "\n",
    "**Objektif**\n",
    "* Membuat model machine learning yang dapat menentukan apakah seorang karyawan layak dipromosikan atau tidak\n"
   ]
  },
  {
   "cell_type": "markdown",
   "metadata": {},
   "source": [
    "Dataset : [HR_Analytics_Classification | Kaggle](https://www.kaggle.com/bhrt97/hr-analytics-classification)"
   ]
  },
  {
   "cell_type": "markdown",
   "metadata": {},
   "source": [
    "## Roadmap\n",
    "1. Exploratory Data Analysis\n",
    "2. Data Overview & Preprocessing\n",
    "3. Modelling\n",
    "4. Summary and Recommedation"
   ]
  },
  {
   "cell_type": "code",
   "execution_count": 1,
   "metadata": {},
   "outputs": [],
   "source": [
    "import pandas as pd\n",
    "import numpy as np\n",
    "import seaborn as sns\n",
    "import matplotlib.pyplot as plt\n",
    "import warnings\n",
    "warnings.filterwarnings(\"ignore\")"
   ]
  },
  {
   "cell_type": "code",
   "execution_count": 2,
   "metadata": {},
   "outputs": [
    {
     "data": {
      "text/html": [
       "<div>\n",
       "<style scoped>\n",
       "    .dataframe tbody tr th:only-of-type {\n",
       "        vertical-align: middle;\n",
       "    }\n",
       "\n",
       "    .dataframe tbody tr th {\n",
       "        vertical-align: top;\n",
       "    }\n",
       "\n",
       "    .dataframe thead th {\n",
       "        text-align: right;\n",
       "    }\n",
       "</style>\n",
       "<table border=\"1\" class=\"dataframe\">\n",
       "  <thead>\n",
       "    <tr style=\"text-align: right;\">\n",
       "      <th></th>\n",
       "      <th>employee_id</th>\n",
       "      <th>department</th>\n",
       "      <th>region</th>\n",
       "      <th>education</th>\n",
       "      <th>gender</th>\n",
       "      <th>recruitment_channel</th>\n",
       "      <th>no_of_trainings</th>\n",
       "      <th>age</th>\n",
       "      <th>previous_year_rating</th>\n",
       "      <th>length_of_service</th>\n",
       "      <th>KPIs_met &gt;80%</th>\n",
       "      <th>awards_won?</th>\n",
       "      <th>avg_training_score</th>\n",
       "      <th>is_promoted</th>\n",
       "    </tr>\n",
       "  </thead>\n",
       "  <tbody>\n",
       "    <tr>\n",
       "      <th>0</th>\n",
       "      <td>65438</td>\n",
       "      <td>Sales &amp; Marketing</td>\n",
       "      <td>region_7</td>\n",
       "      <td>Master's &amp; above</td>\n",
       "      <td>f</td>\n",
       "      <td>sourcing</td>\n",
       "      <td>1</td>\n",
       "      <td>35</td>\n",
       "      <td>5.0</td>\n",
       "      <td>8</td>\n",
       "      <td>1</td>\n",
       "      <td>0</td>\n",
       "      <td>49</td>\n",
       "      <td>0</td>\n",
       "    </tr>\n",
       "    <tr>\n",
       "      <th>1</th>\n",
       "      <td>65141</td>\n",
       "      <td>Operations</td>\n",
       "      <td>region_22</td>\n",
       "      <td>Bachelor's</td>\n",
       "      <td>m</td>\n",
       "      <td>other</td>\n",
       "      <td>1</td>\n",
       "      <td>30</td>\n",
       "      <td>5.0</td>\n",
       "      <td>4</td>\n",
       "      <td>0</td>\n",
       "      <td>0</td>\n",
       "      <td>60</td>\n",
       "      <td>0</td>\n",
       "    </tr>\n",
       "    <tr>\n",
       "      <th>2</th>\n",
       "      <td>7513</td>\n",
       "      <td>Sales &amp; Marketing</td>\n",
       "      <td>region_19</td>\n",
       "      <td>Bachelor's</td>\n",
       "      <td>m</td>\n",
       "      <td>sourcing</td>\n",
       "      <td>1</td>\n",
       "      <td>34</td>\n",
       "      <td>3.0</td>\n",
       "      <td>7</td>\n",
       "      <td>0</td>\n",
       "      <td>0</td>\n",
       "      <td>50</td>\n",
       "      <td>0</td>\n",
       "    </tr>\n",
       "    <tr>\n",
       "      <th>3</th>\n",
       "      <td>2542</td>\n",
       "      <td>Sales &amp; Marketing</td>\n",
       "      <td>region_23</td>\n",
       "      <td>Bachelor's</td>\n",
       "      <td>m</td>\n",
       "      <td>other</td>\n",
       "      <td>2</td>\n",
       "      <td>39</td>\n",
       "      <td>1.0</td>\n",
       "      <td>10</td>\n",
       "      <td>0</td>\n",
       "      <td>0</td>\n",
       "      <td>50</td>\n",
       "      <td>0</td>\n",
       "    </tr>\n",
       "    <tr>\n",
       "      <th>4</th>\n",
       "      <td>48945</td>\n",
       "      <td>Technology</td>\n",
       "      <td>region_26</td>\n",
       "      <td>Bachelor's</td>\n",
       "      <td>m</td>\n",
       "      <td>other</td>\n",
       "      <td>1</td>\n",
       "      <td>45</td>\n",
       "      <td>3.0</td>\n",
       "      <td>2</td>\n",
       "      <td>0</td>\n",
       "      <td>0</td>\n",
       "      <td>73</td>\n",
       "      <td>0</td>\n",
       "    </tr>\n",
       "  </tbody>\n",
       "</table>\n",
       "</div>"
      ],
      "text/plain": [
       "   employee_id         department     region         education gender  \\\n",
       "0        65438  Sales & Marketing   region_7  Master's & above      f   \n",
       "1        65141         Operations  region_22        Bachelor's      m   \n",
       "2         7513  Sales & Marketing  region_19        Bachelor's      m   \n",
       "3         2542  Sales & Marketing  region_23        Bachelor's      m   \n",
       "4        48945         Technology  region_26        Bachelor's      m   \n",
       "\n",
       "  recruitment_channel  no_of_trainings  age  previous_year_rating  \\\n",
       "0            sourcing                1   35                   5.0   \n",
       "1               other                1   30                   5.0   \n",
       "2            sourcing                1   34                   3.0   \n",
       "3               other                2   39                   1.0   \n",
       "4               other                1   45                   3.0   \n",
       "\n",
       "   length_of_service  KPIs_met >80%  awards_won?  avg_training_score  \\\n",
       "0                  8              1            0                  49   \n",
       "1                  4              0            0                  60   \n",
       "2                  7              0            0                  50   \n",
       "3                 10              0            0                  50   \n",
       "4                  2              0            0                  73   \n",
       "\n",
       "   is_promoted  \n",
       "0            0  \n",
       "1            0  \n",
       "2            0  \n",
       "3            0  \n",
       "4            0  "
      ]
     },
     "execution_count": 2,
     "metadata": {},
     "output_type": "execute_result"
    }
   ],
   "source": [
    "df = pd.read_csv('hr-data-final.csv')\n",
    "df.head()"
   ]
  },
  {
   "cell_type": "code",
   "execution_count": 3,
   "metadata": {},
   "outputs": [
    {
     "data": {
      "text/plain": [
       "0    91.482995\n",
       "1     8.517005\n",
       "Name: is_promoted, dtype: float64"
      ]
     },
     "execution_count": 3,
     "metadata": {},
     "output_type": "execute_result"
    }
   ],
   "source": [
    "df['is_promoted'].value_counts()/df.shape[0]*100"
   ]
  },
  {
   "cell_type": "markdown",
   "metadata": {},
   "source": [
    "1. Persentasi dari employee yang tidak mendapatkan promosi adalah 91.48%\n",
    "2. Persentasi dari employee yang  mendapatkan promosi adalah 8.52%"
   ]
  },
  {
   "cell_type": "code",
   "execution_count": 4,
   "metadata": {},
   "outputs": [
    {
     "name": "stdout",
     "output_type": "stream",
     "text": [
      "<class 'pandas.core.frame.DataFrame'>\n",
      "RangeIndex: 54808 entries, 0 to 54807\n",
      "Data columns (total 14 columns):\n",
      " #   Column                Non-Null Count  Dtype  \n",
      "---  ------                --------------  -----  \n",
      " 0   employee_id           54808 non-null  int64  \n",
      " 1   department            54808 non-null  object \n",
      " 2   region                54808 non-null  object \n",
      " 3   education             52399 non-null  object \n",
      " 4   gender                54808 non-null  object \n",
      " 5   recruitment_channel   54808 non-null  object \n",
      " 6   no_of_trainings       54808 non-null  int64  \n",
      " 7   age                   54808 non-null  int64  \n",
      " 8   previous_year_rating  50684 non-null  float64\n",
      " 9   length_of_service     54808 non-null  int64  \n",
      " 10  KPIs_met >80%         54808 non-null  int64  \n",
      " 11  awards_won?           54808 non-null  int64  \n",
      " 12  avg_training_score    54808 non-null  int64  \n",
      " 13  is_promoted           54808 non-null  int64  \n",
      "dtypes: float64(1), int64(8), object(5)\n",
      "memory usage: 5.9+ MB\n"
     ]
    }
   ],
   "source": [
    "df.info()"
   ]
  },
  {
   "cell_type": "markdown",
   "metadata": {},
   "source": [
    "**Conclusion**\n",
    "* Dataframe terdapat 14 kolom\n",
    "* Dataframe dengan total baris 54808\n",
    "* Total data kategorikal 5 kolom\n",
    "* Total data numerikal 9 kolom\n",
    "* Terdapat 2 kolom memiliki missing value `education` dan `previous_year_rating`\n",
    "* `is_promoted` adalah target dalam dataset ini"
   ]
  },
  {
   "cell_type": "markdown",
   "metadata": {},
   "source": [
    "## Exploratory Data Analysis"
   ]
  },
  {
   "cell_type": "code",
   "execution_count": 5,
   "metadata": {},
   "outputs": [
    {
     "data": {
      "text/html": [
       "<div>\n",
       "<style scoped>\n",
       "    .dataframe tbody tr th:only-of-type {\n",
       "        vertical-align: middle;\n",
       "    }\n",
       "\n",
       "    .dataframe tbody tr th {\n",
       "        vertical-align: top;\n",
       "    }\n",
       "\n",
       "    .dataframe thead th {\n",
       "        text-align: right;\n",
       "    }\n",
       "</style>\n",
       "<table border=\"1\" class=\"dataframe\">\n",
       "  <thead>\n",
       "    <tr style=\"text-align: right;\">\n",
       "      <th></th>\n",
       "      <th>employee_id</th>\n",
       "      <th>no_of_trainings</th>\n",
       "      <th>age</th>\n",
       "      <th>previous_year_rating</th>\n",
       "      <th>length_of_service</th>\n",
       "      <th>KPIs_met &gt;80%</th>\n",
       "      <th>awards_won?</th>\n",
       "      <th>avg_training_score</th>\n",
       "      <th>is_promoted</th>\n",
       "    </tr>\n",
       "  </thead>\n",
       "  <tbody>\n",
       "    <tr>\n",
       "      <th>count</th>\n",
       "      <td>54808.000000</td>\n",
       "      <td>54808.000000</td>\n",
       "      <td>54808.000000</td>\n",
       "      <td>50684.000000</td>\n",
       "      <td>54808.000000</td>\n",
       "      <td>54808.000000</td>\n",
       "      <td>54808.000000</td>\n",
       "      <td>54808.000000</td>\n",
       "      <td>54808.000000</td>\n",
       "    </tr>\n",
       "    <tr>\n",
       "      <th>mean</th>\n",
       "      <td>39195.830627</td>\n",
       "      <td>1.253011</td>\n",
       "      <td>34.803915</td>\n",
       "      <td>3.329256</td>\n",
       "      <td>5.865512</td>\n",
       "      <td>0.351974</td>\n",
       "      <td>0.023172</td>\n",
       "      <td>63.386750</td>\n",
       "      <td>0.085170</td>\n",
       "    </tr>\n",
       "    <tr>\n",
       "      <th>std</th>\n",
       "      <td>22586.581449</td>\n",
       "      <td>0.609264</td>\n",
       "      <td>7.660169</td>\n",
       "      <td>1.259993</td>\n",
       "      <td>4.265094</td>\n",
       "      <td>0.477590</td>\n",
       "      <td>0.150450</td>\n",
       "      <td>13.371559</td>\n",
       "      <td>0.279137</td>\n",
       "    </tr>\n",
       "    <tr>\n",
       "      <th>min</th>\n",
       "      <td>1.000000</td>\n",
       "      <td>1.000000</td>\n",
       "      <td>20.000000</td>\n",
       "      <td>1.000000</td>\n",
       "      <td>1.000000</td>\n",
       "      <td>0.000000</td>\n",
       "      <td>0.000000</td>\n",
       "      <td>39.000000</td>\n",
       "      <td>0.000000</td>\n",
       "    </tr>\n",
       "    <tr>\n",
       "      <th>25%</th>\n",
       "      <td>19669.750000</td>\n",
       "      <td>1.000000</td>\n",
       "      <td>29.000000</td>\n",
       "      <td>3.000000</td>\n",
       "      <td>3.000000</td>\n",
       "      <td>0.000000</td>\n",
       "      <td>0.000000</td>\n",
       "      <td>51.000000</td>\n",
       "      <td>0.000000</td>\n",
       "    </tr>\n",
       "    <tr>\n",
       "      <th>50%</th>\n",
       "      <td>39225.500000</td>\n",
       "      <td>1.000000</td>\n",
       "      <td>33.000000</td>\n",
       "      <td>3.000000</td>\n",
       "      <td>5.000000</td>\n",
       "      <td>0.000000</td>\n",
       "      <td>0.000000</td>\n",
       "      <td>60.000000</td>\n",
       "      <td>0.000000</td>\n",
       "    </tr>\n",
       "    <tr>\n",
       "      <th>75%</th>\n",
       "      <td>58730.500000</td>\n",
       "      <td>1.000000</td>\n",
       "      <td>39.000000</td>\n",
       "      <td>4.000000</td>\n",
       "      <td>7.000000</td>\n",
       "      <td>1.000000</td>\n",
       "      <td>0.000000</td>\n",
       "      <td>76.000000</td>\n",
       "      <td>0.000000</td>\n",
       "    </tr>\n",
       "    <tr>\n",
       "      <th>max</th>\n",
       "      <td>78298.000000</td>\n",
       "      <td>10.000000</td>\n",
       "      <td>60.000000</td>\n",
       "      <td>5.000000</td>\n",
       "      <td>37.000000</td>\n",
       "      <td>1.000000</td>\n",
       "      <td>1.000000</td>\n",
       "      <td>99.000000</td>\n",
       "      <td>1.000000</td>\n",
       "    </tr>\n",
       "  </tbody>\n",
       "</table>\n",
       "</div>"
      ],
      "text/plain": [
       "        employee_id  no_of_trainings           age  previous_year_rating  \\\n",
       "count  54808.000000     54808.000000  54808.000000          50684.000000   \n",
       "mean   39195.830627         1.253011     34.803915              3.329256   \n",
       "std    22586.581449         0.609264      7.660169              1.259993   \n",
       "min        1.000000         1.000000     20.000000              1.000000   \n",
       "25%    19669.750000         1.000000     29.000000              3.000000   \n",
       "50%    39225.500000         1.000000     33.000000              3.000000   \n",
       "75%    58730.500000         1.000000     39.000000              4.000000   \n",
       "max    78298.000000        10.000000     60.000000              5.000000   \n",
       "\n",
       "       length_of_service  KPIs_met >80%   awards_won?  avg_training_score  \\\n",
       "count       54808.000000   54808.000000  54808.000000        54808.000000   \n",
       "mean            5.865512       0.351974      0.023172           63.386750   \n",
       "std             4.265094       0.477590      0.150450           13.371559   \n",
       "min             1.000000       0.000000      0.000000           39.000000   \n",
       "25%             3.000000       0.000000      0.000000           51.000000   \n",
       "50%             5.000000       0.000000      0.000000           60.000000   \n",
       "75%             7.000000       1.000000      0.000000           76.000000   \n",
       "max            37.000000       1.000000      1.000000           99.000000   \n",
       "\n",
       "        is_promoted  \n",
       "count  54808.000000  \n",
       "mean       0.085170  \n",
       "std        0.279137  \n",
       "min        0.000000  \n",
       "25%        0.000000  \n",
       "50%        0.000000  \n",
       "75%        0.000000  \n",
       "max        1.000000  "
      ]
     },
     "execution_count": 5,
     "metadata": {},
     "output_type": "execute_result"
    }
   ],
   "source": [
    "df.describe()"
   ]
  },
  {
   "cell_type": "code",
   "execution_count": 6,
   "metadata": {},
   "outputs": [
    {
     "data": {
      "text/html": [
       "<div>\n",
       "<style scoped>\n",
       "    .dataframe tbody tr th:only-of-type {\n",
       "        vertical-align: middle;\n",
       "    }\n",
       "\n",
       "    .dataframe tbody tr th {\n",
       "        vertical-align: top;\n",
       "    }\n",
       "\n",
       "    .dataframe thead th {\n",
       "        text-align: right;\n",
       "    }\n",
       "</style>\n",
       "<table border=\"1\" class=\"dataframe\">\n",
       "  <thead>\n",
       "    <tr style=\"text-align: right;\">\n",
       "      <th></th>\n",
       "      <th>department</th>\n",
       "      <th>region</th>\n",
       "      <th>education</th>\n",
       "      <th>gender</th>\n",
       "      <th>recruitment_channel</th>\n",
       "    </tr>\n",
       "  </thead>\n",
       "  <tbody>\n",
       "    <tr>\n",
       "      <th>count</th>\n",
       "      <td>54808</td>\n",
       "      <td>54808</td>\n",
       "      <td>52399</td>\n",
       "      <td>54808</td>\n",
       "      <td>54808</td>\n",
       "    </tr>\n",
       "    <tr>\n",
       "      <th>unique</th>\n",
       "      <td>9</td>\n",
       "      <td>34</td>\n",
       "      <td>3</td>\n",
       "      <td>2</td>\n",
       "      <td>3</td>\n",
       "    </tr>\n",
       "    <tr>\n",
       "      <th>top</th>\n",
       "      <td>Sales &amp; Marketing</td>\n",
       "      <td>region_2</td>\n",
       "      <td>Bachelor's</td>\n",
       "      <td>m</td>\n",
       "      <td>other</td>\n",
       "    </tr>\n",
       "    <tr>\n",
       "      <th>freq</th>\n",
       "      <td>16840</td>\n",
       "      <td>12343</td>\n",
       "      <td>36669</td>\n",
       "      <td>38496</td>\n",
       "      <td>30446</td>\n",
       "    </tr>\n",
       "  </tbody>\n",
       "</table>\n",
       "</div>"
      ],
      "text/plain": [
       "               department    region   education gender recruitment_channel\n",
       "count               54808     54808       52399  54808               54808\n",
       "unique                  9        34           3      2                   3\n",
       "top     Sales & Marketing  region_2  Bachelor's      m               other\n",
       "freq                16840     12343       36669  38496               30446"
      ]
     },
     "execution_count": 6,
     "metadata": {},
     "output_type": "execute_result"
    }
   ],
   "source": [
    "df.describe(exclude = 'number')"
   ]
  },
  {
   "cell_type": "markdown",
   "metadata": {},
   "source": [
    "**Categorical Data**\n",
    "* Data mayoritas in `gender` adalah male dengan frekuensi 38496\n",
    "* Data mayoritas in `department` adalah Sales & Marketing dengan frekuensi 16840\n",
    "* Data mayoritas in `education` adalah Bachelor's dengan frekuensi 36669\n",
    "* Data mayoritas in `region` adalah region_2 dengan frekuensi 12343\n",
    "* Data mayoritas in `recruitment_channel` adalah other dengan frekuensi 30446"
   ]
  },
  {
   "cell_type": "code",
   "execution_count": 7,
   "metadata": {},
   "outputs": [
    {
     "data": {
      "text/plain": [
       "<matplotlib.axes._subplots.AxesSubplot at 0x7f86164d0d30>"
      ]
     },
     "execution_count": 7,
     "metadata": {},
     "output_type": "execute_result"
    },
    {
     "data": {
      "image/png": "[encoded data removed]",
      "text/plain": [
       "<Figure size 1440x720 with 2 Axes>"
      ]
     },
     "metadata": {
      "needs_background": "light"
     },
     "output_type": "display_data"
    }
   ],
   "source": [
    "plt.figure(figsize=(20,10))\n",
    "sns.heatmap(df.corr(),annot= True)"
   ]
  },
  {
   "cell_type": "code",
   "execution_count": 8,
   "metadata": {},
   "outputs": [
    {
     "data": {
      "text/html": [
       "<div>\n",
       "<style scoped>\n",
       "    .dataframe tbody tr th:only-of-type {\n",
       "        vertical-align: middle;\n",
       "    }\n",
       "\n",
       "    .dataframe tbody tr th {\n",
       "        vertical-align: top;\n",
       "    }\n",
       "\n",
       "    .dataframe thead th {\n",
       "        text-align: right;\n",
       "    }\n",
       "</style>\n",
       "<table border=\"1\" class=\"dataframe\">\n",
       "  <thead>\n",
       "    <tr style=\"text-align: right;\">\n",
       "      <th></th>\n",
       "      <th>feature</th>\n",
       "      <th>unique value</th>\n",
       "    </tr>\n",
       "  </thead>\n",
       "  <tbody>\n",
       "    <tr>\n",
       "      <th>0</th>\n",
       "      <td>employee_id</td>\n",
       "      <td>54808</td>\n",
       "    </tr>\n",
       "    <tr>\n",
       "      <th>1</th>\n",
       "      <td>avg_training_score</td>\n",
       "      <td>61</td>\n",
       "    </tr>\n",
       "    <tr>\n",
       "      <th>2</th>\n",
       "      <td>age</td>\n",
       "      <td>41</td>\n",
       "    </tr>\n",
       "    <tr>\n",
       "      <th>3</th>\n",
       "      <td>length_of_service</td>\n",
       "      <td>35</td>\n",
       "    </tr>\n",
       "    <tr>\n",
       "      <th>4</th>\n",
       "      <td>region</td>\n",
       "      <td>34</td>\n",
       "    </tr>\n",
       "    <tr>\n",
       "      <th>5</th>\n",
       "      <td>no_of_trainings</td>\n",
       "      <td>10</td>\n",
       "    </tr>\n",
       "    <tr>\n",
       "      <th>6</th>\n",
       "      <td>department</td>\n",
       "      <td>9</td>\n",
       "    </tr>\n",
       "    <tr>\n",
       "      <th>7</th>\n",
       "      <td>previous_year_rating</td>\n",
       "      <td>5</td>\n",
       "    </tr>\n",
       "    <tr>\n",
       "      <th>8</th>\n",
       "      <td>education</td>\n",
       "      <td>3</td>\n",
       "    </tr>\n",
       "    <tr>\n",
       "      <th>9</th>\n",
       "      <td>recruitment_channel</td>\n",
       "      <td>3</td>\n",
       "    </tr>\n",
       "    <tr>\n",
       "      <th>10</th>\n",
       "      <td>gender</td>\n",
       "      <td>2</td>\n",
       "    </tr>\n",
       "    <tr>\n",
       "      <th>11</th>\n",
       "      <td>KPIs_met &gt;80%</td>\n",
       "      <td>2</td>\n",
       "    </tr>\n",
       "    <tr>\n",
       "      <th>12</th>\n",
       "      <td>awards_won?</td>\n",
       "      <td>2</td>\n",
       "    </tr>\n",
       "    <tr>\n",
       "      <th>13</th>\n",
       "      <td>is_promoted</td>\n",
       "      <td>2</td>\n",
       "    </tr>\n",
       "  </tbody>\n",
       "</table>\n",
       "</div>"
      ],
      "text/plain": [
       "                 feature  unique value\n",
       "0            employee_id         54808\n",
       "1     avg_training_score            61\n",
       "2                    age            41\n",
       "3      length_of_service            35\n",
       "4                 region            34\n",
       "5        no_of_trainings            10\n",
       "6             department             9\n",
       "7   previous_year_rating             5\n",
       "8              education             3\n",
       "9    recruitment_channel             3\n",
       "10                gender             2\n",
       "11         KPIs_met >80%             2\n",
       "12           awards_won?             2\n",
       "13           is_promoted             2"
      ]
     },
     "execution_count": 8,
     "metadata": {},
     "output_type": "execute_result"
    }
   ],
   "source": [
    "df_unique = df.nunique().reset_index()\n",
    "df_unique.columns = ['feature', 'unique value']\n",
    "df_unique = df_unique.sort_values('unique value', ascending=False).reset_index(drop=True)\n",
    "df_unique"
   ]
  },
  {
   "cell_type": "code",
   "execution_count": 9,
   "metadata": {},
   "outputs": [
    {
     "data": {
      "image/png": "[encoded data removed]",
      "text/plain": [
       "<Figure size 1080x504 with 5 Axes>"
      ]
     },
     "metadata": {
      "needs_background": "light"
     },
     "output_type": "display_data"
    }
   ],
   "source": [
    "# Melihat distribusi data menggunakan boxplot\n",
    "features = ['no_of_trainings','age','previous_year_rating','length_of_service','avg_training_score']\n",
    "plt.figure(figsize=(15, 7))\n",
    "\n",
    "for i in range(0, len(features)):\n",
    "    plt.subplot(1, 8, i+1)\n",
    "    sns.boxplot(y=df[features[i]],color='green',orient='v')\n",
    "    plt.tight_layout()"
   ]
  },
  {
   "cell_type": "markdown",
   "metadata": {},
   "source": [
    "##### Probabilitas di promosikan berdasrarkan  `awards_won?`"
   ]
  },
  {
   "cell_type": "code",
   "execution_count": 10,
   "metadata": {},
   "outputs": [
    {
     "data": {
      "text/html": [
       "<div>\n",
       "<style scoped>\n",
       "    .dataframe tbody tr th:only-of-type {\n",
       "        vertical-align: middle;\n",
       "    }\n",
       "\n",
       "    .dataframe tbody tr th {\n",
       "        vertical-align: top;\n",
       "    }\n",
       "\n",
       "    .dataframe thead th {\n",
       "        text-align: right;\n",
       "    }\n",
       "</style>\n",
       "<table border=\"1\" class=\"dataframe\">\n",
       "  <thead>\n",
       "    <tr style=\"text-align: right;\">\n",
       "      <th></th>\n",
       "      <th>awards_won</th>\n",
       "      <th>not_promoted</th>\n",
       "      <th>promoted</th>\n",
       "      <th>total</th>\n",
       "      <th>probability</th>\n",
       "    </tr>\n",
       "  </thead>\n",
       "  <tbody>\n",
       "    <tr>\n",
       "      <th>1</th>\n",
       "      <td>1</td>\n",
       "      <td>711</td>\n",
       "      <td>559</td>\n",
       "      <td>1270</td>\n",
       "      <td>44.02</td>\n",
       "    </tr>\n",
       "    <tr>\n",
       "      <th>0</th>\n",
       "      <td>0</td>\n",
       "      <td>49429</td>\n",
       "      <td>4109</td>\n",
       "      <td>53538</td>\n",
       "      <td>7.67</td>\n",
       "    </tr>\n",
       "  </tbody>\n",
       "</table>\n",
       "</div>"
      ],
      "text/plain": [
       "   awards_won  not_promoted  promoted  total  probability\n",
       "1           1           711       559   1270        44.02\n",
       "0           0         49429      4109  53538         7.67"
      ]
     },
     "execution_count": 10,
     "metadata": {},
     "output_type": "execute_result"
    }
   ],
   "source": [
    "df_awards = pd.pivot_table(df,\n",
    "                    index = ['awards_won?'],\n",
    "                    columns = ['is_promoted'],\n",
    "                    aggfunc = {'is_promoted' : ['count']}).reset_index()\n",
    "df_awards.columns = ['awards_won', 'not_promoted', 'promoted']\n",
    "df_awards['total'] = df_awards['not_promoted']+df_awards['promoted']\n",
    "df_awards['probability'] = round((df_awards['promoted']/df_awards['total'])*100,2)\n",
    "df_awards = df_awards.sort_values(['probability'], ascending=False)\n",
    "df_awards"
   ]
  },
  {
   "cell_type": "code",
   "execution_count": 11,
   "metadata": {},
   "outputs": [
    {
     "data": {
      "text/plain": [
       "<function matplotlib.pyplot.tight_layout(pad=1.08, h_pad=None, w_pad=None, rect=None)>"
      ]
     },
     "execution_count": 11,
     "metadata": {},
     "output_type": "execute_result"
    },
    {
     "data": {
      "image/png": "[encoded data removed]",
      "text/plain": [
       "<Figure size 864x504 with 1 Axes>"
      ]
     },
     "metadata": {
      "needs_background": "light"
     },
     "output_type": "display_data"
    }
   ],
   "source": [
    "fig, (ax1) = plt.subplots(figsize=(12,7))\n",
    "sns.barplot(x='awards_won', y='probability', \n",
    "                data=df_awards,ax=ax1,palette='winter',\n",
    "               order=df_awards.sort_values('probability',ascending = False).awards_won)\n",
    "\n",
    "title = 'Promotion by Awards Won'\n",
    "plt.xlabel('Awards won', fontsize = 10, weight='bold')\n",
    "plt.ylabel('Probability', fontsize = 10, weight='bold')\n",
    "fig.text(x=0.55, y=0.9, s=title, fontsize=20, weight='bold', ha='center')\n",
    "plt.tight_layout\n",
    "# plt.savefig('awardswon.png')"
   ]
  },
  {
   "cell_type": "markdown",
   "metadata": {},
   "source": [
    "Employee yang memenangkan award mempunyai 44.02% di promosikan dibandingkan dengan employee yang tidak pernah mendapatkan award dengan probabilty 7.67%"
   ]
  },
  {
   "cell_type": "markdown",
   "metadata": {},
   "source": [
    "##### Probabilitas di promosikan berdasarkan `KPIs_met >80%`"
   ]
  },
  {
   "cell_type": "code",
   "execution_count": 12,
   "metadata": {},
   "outputs": [
    {
     "data": {
      "text/html": [
       "<div>\n",
       "<style scoped>\n",
       "    .dataframe tbody tr th:only-of-type {\n",
       "        vertical-align: middle;\n",
       "    }\n",
       "\n",
       "    .dataframe tbody tr th {\n",
       "        vertical-align: top;\n",
       "    }\n",
       "\n",
       "    .dataframe thead th {\n",
       "        text-align: right;\n",
       "    }\n",
       "</style>\n",
       "<table border=\"1\" class=\"dataframe\">\n",
       "  <thead>\n",
       "    <tr style=\"text-align: right;\">\n",
       "      <th></th>\n",
       "      <th>kpi</th>\n",
       "      <th>not_promoted</th>\n",
       "      <th>promoted</th>\n",
       "      <th>total</th>\n",
       "      <th>probability</th>\n",
       "    </tr>\n",
       "  </thead>\n",
       "  <tbody>\n",
       "    <tr>\n",
       "      <th>1</th>\n",
       "      <td>1</td>\n",
       "      <td>16029</td>\n",
       "      <td>3262</td>\n",
       "      <td>19291</td>\n",
       "      <td>16.91</td>\n",
       "    </tr>\n",
       "    <tr>\n",
       "      <th>0</th>\n",
       "      <td>0</td>\n",
       "      <td>34111</td>\n",
       "      <td>1406</td>\n",
       "      <td>35517</td>\n",
       "      <td>3.96</td>\n",
       "    </tr>\n",
       "  </tbody>\n",
       "</table>\n",
       "</div>"
      ],
      "text/plain": [
       "   kpi  not_promoted  promoted  total  probability\n",
       "1    1         16029      3262  19291        16.91\n",
       "0    0         34111      1406  35517         3.96"
      ]
     },
     "execution_count": 12,
     "metadata": {},
     "output_type": "execute_result"
    }
   ],
   "source": [
    "prob_kpi = df.groupby(['KPIs_met >80%','is_promoted'])['employee_id'].count().reset_index()\n",
    "kpi = prob_kpi.pivot_table(index='KPIs_met >80%', columns='is_promoted', \n",
    "                       values='employee_id').reset_index()\n",
    "kpi.columns = ['kpi', 'not_promoted', 'promoted']\n",
    "kpi['total'] = kpi['not_promoted']+kpi['promoted']\n",
    "kpi['probability'] = round((kpi['promoted']/kpi['total'])*100,2)\n",
    "kpi = kpi.sort_values(['probability'], ascending=False)\n",
    "kpi"
   ]
  },
  {
   "cell_type": "code",
   "execution_count": 13,
   "metadata": {},
   "outputs": [
    {
     "data": {
      "text/plain": [
       "<function matplotlib.pyplot.tight_layout(pad=1.08, h_pad=None, w_pad=None, rect=None)>"
      ]
     },
     "execution_count": 13,
     "metadata": {},
     "output_type": "execute_result"
    },
    {
     "data": {
      "image/png": "[encoded data removed]",
      "text/plain": [
       "<Figure size 864x504 with 1 Axes>"
      ]
     },
     "metadata": {
      "needs_background": "light"
     },
     "output_type": "display_data"
    }
   ],
   "source": [
    "fig, (ax1) = plt.subplots(figsize=(12,7))\n",
    "sns.barplot(x='kpi', y='probability', \n",
    "                data=kpi,ax=ax1,palette='winter',\n",
    "               order=kpi.sort_values('probability',ascending = False).kpi)\n",
    "title = '''Promotion by Key Performance Indicator'''\n",
    "fig.text(x=0.55, y=0.9, s=title, fontsize=20, weight='bold', ha='center')\n",
    "plt.tight_layout\n",
    "# plt.savefig('kpi.png')"
   ]
  },
  {
   "cell_type": "markdown",
   "metadata": {},
   "source": [
    "Employee yang mencapai KPI diatas 80% mendapatkan 16.91% untuk dipromosikan dibandingkan dengan yang tidak dengan persentase 3.96%"
   ]
  },
  {
   "cell_type": "markdown",
   "metadata": {},
   "source": [
    "##### Probabilitas di promosikan berdasarkan `department`"
   ]
  },
  {
   "cell_type": "code",
   "execution_count": 14,
   "metadata": {},
   "outputs": [
    {
     "data": {
      "text/html": [
       "<div>\n",
       "<style scoped>\n",
       "    .dataframe tbody tr th:only-of-type {\n",
       "        vertical-align: middle;\n",
       "    }\n",
       "\n",
       "    .dataframe tbody tr th {\n",
       "        vertical-align: top;\n",
       "    }\n",
       "\n",
       "    .dataframe thead th {\n",
       "        text-align: right;\n",
       "    }\n",
       "</style>\n",
       "<table border=\"1\" class=\"dataframe\">\n",
       "  <thead>\n",
       "    <tr style=\"text-align: right;\">\n",
       "      <th></th>\n",
       "      <th>department</th>\n",
       "      <th>not_promoted</th>\n",
       "      <th>promoted</th>\n",
       "      <th>total</th>\n",
       "      <th>probability</th>\n",
       "    </tr>\n",
       "  </thead>\n",
       "  <tbody>\n",
       "    <tr>\n",
       "      <th>8</th>\n",
       "      <td>Technology</td>\n",
       "      <td>6370</td>\n",
       "      <td>768</td>\n",
       "      <td>7138</td>\n",
       "      <td>10.76</td>\n",
       "    </tr>\n",
       "    <tr>\n",
       "      <th>5</th>\n",
       "      <td>Procurement</td>\n",
       "      <td>6450</td>\n",
       "      <td>688</td>\n",
       "      <td>7138</td>\n",
       "      <td>9.64</td>\n",
       "    </tr>\n",
       "    <tr>\n",
       "      <th>0</th>\n",
       "      <td>Analytics</td>\n",
       "      <td>4840</td>\n",
       "      <td>512</td>\n",
       "      <td>5352</td>\n",
       "      <td>9.57</td>\n",
       "    </tr>\n",
       "    <tr>\n",
       "      <th>4</th>\n",
       "      <td>Operations</td>\n",
       "      <td>10325</td>\n",
       "      <td>1023</td>\n",
       "      <td>11348</td>\n",
       "      <td>9.01</td>\n",
       "    </tr>\n",
       "    <tr>\n",
       "      <th>1</th>\n",
       "      <td>Finance</td>\n",
       "      <td>2330</td>\n",
       "      <td>206</td>\n",
       "      <td>2536</td>\n",
       "      <td>8.12</td>\n",
       "    </tr>\n",
       "    <tr>\n",
       "      <th>7</th>\n",
       "      <td>Sales &amp; Marketing</td>\n",
       "      <td>15627</td>\n",
       "      <td>1213</td>\n",
       "      <td>16840</td>\n",
       "      <td>7.20</td>\n",
       "    </tr>\n",
       "    <tr>\n",
       "      <th>6</th>\n",
       "      <td>R&amp;D</td>\n",
       "      <td>930</td>\n",
       "      <td>69</td>\n",
       "      <td>999</td>\n",
       "      <td>6.91</td>\n",
       "    </tr>\n",
       "    <tr>\n",
       "      <th>2</th>\n",
       "      <td>HR</td>\n",
       "      <td>2282</td>\n",
       "      <td>136</td>\n",
       "      <td>2418</td>\n",
       "      <td>5.62</td>\n",
       "    </tr>\n",
       "    <tr>\n",
       "      <th>3</th>\n",
       "      <td>Legal</td>\n",
       "      <td>986</td>\n",
       "      <td>53</td>\n",
       "      <td>1039</td>\n",
       "      <td>5.10</td>\n",
       "    </tr>\n",
       "  </tbody>\n",
       "</table>\n",
       "</div>"
      ],
      "text/plain": [
       "          department  not_promoted  promoted  total  probability\n",
       "8         Technology          6370       768   7138        10.76\n",
       "5        Procurement          6450       688   7138         9.64\n",
       "0          Analytics          4840       512   5352         9.57\n",
       "4         Operations         10325      1023  11348         9.01\n",
       "1            Finance          2330       206   2536         8.12\n",
       "7  Sales & Marketing         15627      1213  16840         7.20\n",
       "6                R&D           930        69    999         6.91\n",
       "2                 HR          2282       136   2418         5.62\n",
       "3              Legal           986        53   1039         5.10"
      ]
     },
     "execution_count": 14,
     "metadata": {},
     "output_type": "execute_result"
    }
   ],
   "source": [
    "df_department = pd.pivot_table(df,\n",
    "                    index = ['department'],\n",
    "                    columns = ['is_promoted'],\n",
    "                    aggfunc = {'is_promoted' : ['count']}).reset_index()\n",
    "df_department.columns = ['department', 'not_promoted', 'promoted']\n",
    "df_department['total'] = df_department['not_promoted']+df_department['promoted']\n",
    "df_department['probability'] = round((df_department['promoted']/df_department['total'])*100,2)\n",
    "df_department = df_department.sort_values(['probability'], ascending=False)\n",
    "df_department"
   ]
  },
  {
   "cell_type": "code",
   "execution_count": 15,
   "metadata": {},
   "outputs": [
    {
     "data": {
      "text/plain": [
       "<function matplotlib.pyplot.tight_layout(pad=1.08, h_pad=None, w_pad=None, rect=None)>"
      ]
     },
     "execution_count": 15,
     "metadata": {},
     "output_type": "execute_result"
    },
    {
     "data": {
      "image/png": "[encoded data removed]",
      "text/plain": [
       "<Figure size 864x504 with 1 Axes>"
      ]
     },
     "metadata": {
      "needs_background": "light"
     },
     "output_type": "display_data"
    }
   ],
   "source": [
    "fig, (ax1) = plt.subplots(figsize=(12,7))\n",
    "sns.barplot(x='department', y='probability', \n",
    "                data=df_department,ax=ax1,palette='winter',\n",
    "               order=df_department.sort_values('probability',ascending = False).department)\n",
    "title = '''Promotion by Department'''\n",
    "fig.text(x=0.55, y=0.9, s=title, fontsize=20, weight='bold', ha='center')\n",
    "plt.xlabel('Department', fontsize = 10, weight='bold')\n",
    "plt.ylabel('Probability', fontsize = 10, weight='bold')\n",
    "\n",
    "plt.tight_layout\n",
    "# plt.savefig('department.png')"
   ]
  },
  {
   "cell_type": "markdown",
   "metadata": {},
   "source": [
    "Employee dari departement teknologi mendapatkan chance tertinggi untuk dipromosikan dengan persentase 10.76%, sedangkan yang paling kecil adalah dari bagian legal dengan persentase 5.10%"
   ]
  },
  {
   "cell_type": "markdown",
   "metadata": {},
   "source": [
    "##### Probabilitas di promosikan berdasarkan `education`"
   ]
  },
  {
   "cell_type": "code",
   "execution_count": 16,
   "metadata": {},
   "outputs": [
    {
     "data": {
      "text/html": [
       "<div>\n",
       "<style scoped>\n",
       "    .dataframe tbody tr th:only-of-type {\n",
       "        vertical-align: middle;\n",
       "    }\n",
       "\n",
       "    .dataframe tbody tr th {\n",
       "        vertical-align: top;\n",
       "    }\n",
       "\n",
       "    .dataframe thead th {\n",
       "        text-align: right;\n",
       "    }\n",
       "</style>\n",
       "<table border=\"1\" class=\"dataframe\">\n",
       "  <thead>\n",
       "    <tr style=\"text-align: right;\">\n",
       "      <th></th>\n",
       "      <th>education</th>\n",
       "      <th>not_promoted</th>\n",
       "      <th>promoted</th>\n",
       "      <th>total</th>\n",
       "      <th>probability</th>\n",
       "    </tr>\n",
       "  </thead>\n",
       "  <tbody>\n",
       "    <tr>\n",
       "      <th>2</th>\n",
       "      <td>Master's &amp; above</td>\n",
       "      <td>13454</td>\n",
       "      <td>1471</td>\n",
       "      <td>14925</td>\n",
       "      <td>9.86</td>\n",
       "    </tr>\n",
       "    <tr>\n",
       "      <th>1</th>\n",
       "      <td>Below Secondary</td>\n",
       "      <td>738</td>\n",
       "      <td>67</td>\n",
       "      <td>805</td>\n",
       "      <td>8.32</td>\n",
       "    </tr>\n",
       "    <tr>\n",
       "      <th>0</th>\n",
       "      <td>Bachelor's</td>\n",
       "      <td>33661</td>\n",
       "      <td>3008</td>\n",
       "      <td>36669</td>\n",
       "      <td>8.20</td>\n",
       "    </tr>\n",
       "  </tbody>\n",
       "</table>\n",
       "</div>"
      ],
      "text/plain": [
       "          education  not_promoted  promoted  total  probability\n",
       "2  Master's & above         13454      1471  14925         9.86\n",
       "1   Below Secondary           738        67    805         8.32\n",
       "0        Bachelor's         33661      3008  36669         8.20"
      ]
     },
     "execution_count": 16,
     "metadata": {},
     "output_type": "execute_result"
    }
   ],
   "source": [
    "prob_edu = df.groupby(['education','is_promoted'])['employee_id'].count().reset_index()\n",
    "edu = prob_edu.pivot_table(index='education', columns='is_promoted', \n",
    "                       values='employee_id').reset_index()\n",
    "edu.columns = ['education', 'not_promoted', 'promoted']\n",
    "edu['total'] = edu['not_promoted']+edu['promoted']\n",
    "edu['probability'] = round((edu['promoted']/edu['total'])*100,2)\n",
    "edu = edu.sort_values(['probability'], ascending=False)\n",
    "edu"
   ]
  },
  {
   "cell_type": "code",
   "execution_count": 17,
   "metadata": {
    "scrolled": false
   },
   "outputs": [
    {
     "data": {
      "text/plain": [
       "<function matplotlib.pyplot.tight_layout(pad=1.08, h_pad=None, w_pad=None, rect=None)>"
      ]
     },
     "execution_count": 17,
     "metadata": {},
     "output_type": "execute_result"
    },
    {
     "data": {
      "image/png": "[encoded data removed]",
      "text/plain": [
       "<Figure size 864x504 with 1 Axes>"
      ]
     },
     "metadata": {
      "needs_background": "light"
     },
     "output_type": "display_data"
    }
   ],
   "source": [
    "fig, (ax1) = plt.subplots(figsize=(12,7))\n",
    "sns.barplot(x='education', y='probability', \n",
    "                data=edu,ax=ax1,palette='winter',\n",
    "               order=edu.sort_values('probability',ascending = False).education)\n",
    "\n",
    "title = '''Promotion by Education Level'''\n",
    "fig.text(x=0.5, y=0.9, s=title, fontsize=20, weight='bold', ha='center')\n",
    "\n",
    "plt.xlabel('Education Level', fontsize = 10, weight='bold')\n",
    "plt.ylabel('Probability', fontsize = 10, weight='bold')\n",
    "ax1.set_xticklabels([\"Master's & Above\", 'Below Secondary', \"Bachelor's\"], fontsize = 10)\n",
    "\n",
    "plt.tight_layout\n",
    "# plt.savefig('education.png')"
   ]
  },
  {
   "cell_type": "markdown",
   "metadata": {},
   "source": [
    "Employees dengan level edukasi master\n",
    "and above memiliki chance dipromosikan dengan persentase 9.86%"
   ]
  },
  {
   "cell_type": "code",
   "execution_count": 18,
   "metadata": {},
   "outputs": [
    {
     "data": {
      "text/html": [
       "<div>\n",
       "<style scoped>\n",
       "    .dataframe tbody tr th:only-of-type {\n",
       "        vertical-align: middle;\n",
       "    }\n",
       "\n",
       "    .dataframe tbody tr th {\n",
       "        vertical-align: top;\n",
       "    }\n",
       "\n",
       "    .dataframe thead th {\n",
       "        text-align: right;\n",
       "    }\n",
       "</style>\n",
       "<table border=\"1\" class=\"dataframe\">\n",
       "  <thead>\n",
       "    <tr style=\"text-align: right;\">\n",
       "      <th></th>\n",
       "      <th>gender</th>\n",
       "      <th>not_promoted</th>\n",
       "      <th>promoted</th>\n",
       "      <th>total</th>\n",
       "      <th>probability</th>\n",
       "    </tr>\n",
       "  </thead>\n",
       "  <tbody>\n",
       "    <tr>\n",
       "      <th>0</th>\n",
       "      <td>f</td>\n",
       "      <td>14845</td>\n",
       "      <td>1467</td>\n",
       "      <td>16312</td>\n",
       "      <td>8.99</td>\n",
       "    </tr>\n",
       "    <tr>\n",
       "      <th>1</th>\n",
       "      <td>m</td>\n",
       "      <td>35295</td>\n",
       "      <td>3201</td>\n",
       "      <td>38496</td>\n",
       "      <td>8.32</td>\n",
       "    </tr>\n",
       "  </tbody>\n",
       "</table>\n",
       "</div>"
      ],
      "text/plain": [
       "  gender  not_promoted  promoted  total  probability\n",
       "0      f         14845      1467  16312         8.99\n",
       "1      m         35295      3201  38496         8.32"
      ]
     },
     "execution_count": 18,
     "metadata": {},
     "output_type": "execute_result"
    }
   ],
   "source": [
    "prob_gender = df.groupby(['gender','is_promoted'])['employee_id'].count().reset_index()\n",
    "gender = prob_gender.pivot_table(index='gender', columns='is_promoted', \n",
    "                       values='employee_id').reset_index()\n",
    "gender.columns = ['gender', 'not_promoted', 'promoted']\n",
    "gender['total'] = gender['not_promoted']+gender['promoted']\n",
    "gender['probability'] = round((gender['promoted']/gender['total'])*100,2)\n",
    "gender = gender.sort_values(['probability'], ascending=False)\n",
    "gender"
   ]
  },
  {
   "cell_type": "code",
   "execution_count": 19,
   "metadata": {},
   "outputs": [
    {
     "data": {
      "text/plain": [
       "<function matplotlib.pyplot.tight_layout(pad=1.08, h_pad=None, w_pad=None, rect=None)>"
      ]
     },
     "execution_count": 19,
     "metadata": {},
     "output_type": "execute_result"
    },
    {
     "data": {
      "image/png": "[encoded data removed]",
      "text/plain": [
       "<Figure size 864x504 with 1 Axes>"
      ]
     },
     "metadata": {
      "needs_background": "light"
     },
     "output_type": "display_data"
    }
   ],
   "source": [
    "fig, (ax1) = plt.subplots(figsize=(12,7))\n",
    "sns.barplot(x='gender', y='probability', \n",
    "                data=gender,ax=ax1,palette='winter',\n",
    "               order=gender.sort_values('probability',ascending = False).gender)\n",
    "title = '''Promotion by Gender'''\n",
    "fig.text(x=0.48, y=0.9, s=title, fontsize=20, weight='bold', ha='center')\n",
    "plt.tight_layout\n",
    "# plt.savefig('gender.png')"
   ]
  },
  {
   "cell_type": "markdown",
   "metadata": {},
   "source": [
    "Employee perempuan mendapatkan lebih tinggi probabilitas dibanding male dengan persentase 8.99%"
   ]
  },
  {
   "cell_type": "code",
   "execution_count": 20,
   "metadata": {},
   "outputs": [
    {
     "data": {
      "text/html": [
       "<div>\n",
       "<style scoped>\n",
       "    .dataframe tbody tr th:only-of-type {\n",
       "        vertical-align: middle;\n",
       "    }\n",
       "\n",
       "    .dataframe tbody tr th {\n",
       "        vertical-align: top;\n",
       "    }\n",
       "\n",
       "    .dataframe thead th {\n",
       "        text-align: right;\n",
       "    }\n",
       "</style>\n",
       "<table border=\"1\" class=\"dataframe\">\n",
       "  <thead>\n",
       "    <tr style=\"text-align: right;\">\n",
       "      <th></th>\n",
       "      <th>previous_year_rating</th>\n",
       "      <th>not_promoted</th>\n",
       "      <th>promoted</th>\n",
       "      <th>total_employees</th>\n",
       "      <th>promotion_probs</th>\n",
       "    </tr>\n",
       "  </thead>\n",
       "  <tbody>\n",
       "    <tr>\n",
       "      <th>0</th>\n",
       "      <td>5.0</td>\n",
       "      <td>9820</td>\n",
       "      <td>1921</td>\n",
       "      <td>11741</td>\n",
       "      <td>16.361468</td>\n",
       "    </tr>\n",
       "    <tr>\n",
       "      <th>1</th>\n",
       "      <td>4.0</td>\n",
       "      <td>9093</td>\n",
       "      <td>784</td>\n",
       "      <td>9877</td>\n",
       "      <td>7.937633</td>\n",
       "    </tr>\n",
       "    <tr>\n",
       "      <th>2</th>\n",
       "      <td>3.0</td>\n",
       "      <td>17263</td>\n",
       "      <td>1355</td>\n",
       "      <td>18618</td>\n",
       "      <td>7.277903</td>\n",
       "    </tr>\n",
       "    <tr>\n",
       "      <th>3</th>\n",
       "      <td>2.0</td>\n",
       "      <td>4044</td>\n",
       "      <td>181</td>\n",
       "      <td>4225</td>\n",
       "      <td>4.284024</td>\n",
       "    </tr>\n",
       "    <tr>\n",
       "      <th>4</th>\n",
       "      <td>1.0</td>\n",
       "      <td>6135</td>\n",
       "      <td>88</td>\n",
       "      <td>6223</td>\n",
       "      <td>1.414109</td>\n",
       "    </tr>\n",
       "  </tbody>\n",
       "</table>\n",
       "</div>"
      ],
      "text/plain": [
       "   previous_year_rating  not_promoted  promoted  total_employees  \\\n",
       "0                   5.0          9820      1921            11741   \n",
       "1                   4.0          9093       784             9877   \n",
       "2                   3.0         17263      1355            18618   \n",
       "3                   2.0          4044       181             4225   \n",
       "4                   1.0          6135        88             6223   \n",
       "\n",
       "   promotion_probs  \n",
       "0        16.361468  \n",
       "1         7.937633  \n",
       "2         7.277903  \n",
       "3         4.284024  \n",
       "4         1.414109  "
      ]
     },
     "execution_count": 20,
     "metadata": {},
     "output_type": "execute_result"
    }
   ],
   "source": [
    "rating_probs = df.groupby(['previous_year_rating','is_promoted']).agg({\n",
    "    'department': ['count']\n",
    "}).reset_index()\n",
    "\n",
    "rating_probs.columns = ['previous_year_rating', 'is_promoted', \"employees\"]\n",
    "\n",
    "rating_probs = pd.pivot_table(rating_probs,\n",
    "                              index = 'previous_year_rating',\n",
    "                              columns = 'is_promoted',\n",
    "                              values = \"employees\"\n",
    "                             ).reset_index()\n",
    "\n",
    "rating_probs.columns = ['previous_year_rating', 'not_promoted', 'promoted']\n",
    "rating_probs['total_employees'] = rating_probs['not_promoted'] + rating_probs['promoted']\n",
    "rating_probs['promotion_probs'] = (rating_probs['promoted']/(rating_probs['not_promoted']+rating_probs['promoted']))*100\n",
    "rating_probs = rating_probs.sort_values('promotion_probs', ascending=False).reset_index(drop=True)\n",
    "rating_probs"
   ]
  },
  {
   "cell_type": "code",
   "execution_count": 21,
   "metadata": {},
   "outputs": [
    {
     "data": {
      "text/plain": [
       "<function matplotlib.pyplot.tight_layout(pad=1.08, h_pad=None, w_pad=None, rect=None)>"
      ]
     },
     "execution_count": 21,
     "metadata": {},
     "output_type": "execute_result"
    },
    {
     "data": {
      "image/png": "[encoded data removed]",
      "text/plain": [
       "<Figure size 1080x504 with 1 Axes>"
      ]
     },
     "metadata": {
      "needs_background": "light"
     },
     "output_type": "display_data"
    }
   ],
   "source": [
    "fig, ax = plt.subplots(figsize=(15,7))\n",
    "\n",
    "sns.barplot(x='previous_year_rating', y='promotion_probs', data=rating_probs,\n",
    "                order=rating_probs.sort_values('promotion_probs')['previous_year_rating'],\n",
    "                palette = 'winter')\n",
    "\n",
    "title = '''Promotion by Previous Year Rating'''\n",
    "plt.xlabel('Previous Year Rating (1 to 5)', fontsize = 15) \n",
    "plt.ylabel('Promotion Probabilities', fontsize = 15) \n",
    "\n",
    "fig.text(x=0.5, y=0.9, s=title, fontsize=20, weight='bold', ha='center')\n",
    "plt.tight_layout\n",
    "# plt.savefig('rating.png')"
   ]
  },
  {
   "cell_type": "markdown",
   "metadata": {},
   "source": [
    "Nilai Rating Tahun Sebelumnya mempunyai faktor penting dalam penentuan karyawan mendapatkan promosi kenaikan \n",
    "jabatan atau tidak, terlihat pada grafis, mempunyai pola yang terus meningkat sehingga karyawan dengan nilai\n",
    "lebih tinggi mempunyai presentase dipromosikan lebih besar."
   ]
  },
  {
   "cell_type": "code",
   "execution_count": 22,
   "metadata": {},
   "outputs": [
    {
     "data": {
      "text/html": [
       "<div>\n",
       "<style scoped>\n",
       "    .dataframe tbody tr th:only-of-type {\n",
       "        vertical-align: middle;\n",
       "    }\n",
       "\n",
       "    .dataframe tbody tr th {\n",
       "        vertical-align: top;\n",
       "    }\n",
       "\n",
       "    .dataframe thead th {\n",
       "        text-align: right;\n",
       "    }\n",
       "</style>\n",
       "<table border=\"1\" class=\"dataframe\">\n",
       "  <thead>\n",
       "    <tr style=\"text-align: right;\">\n",
       "      <th></th>\n",
       "      <th>length_of_service</th>\n",
       "      <th>not_promoted</th>\n",
       "      <th>promoted</th>\n",
       "      <th>total</th>\n",
       "      <th>probability</th>\n",
       "    </tr>\n",
       "  </thead>\n",
       "  <tbody>\n",
       "    <tr>\n",
       "      <th>33</th>\n",
       "      <td>34</td>\n",
       "      <td>3.0</td>\n",
       "      <td>1.0</td>\n",
       "      <td>4.0</td>\n",
       "      <td>25.00</td>\n",
       "    </tr>\n",
       "    <tr>\n",
       "      <th>31</th>\n",
       "      <td>32</td>\n",
       "      <td>8.0</td>\n",
       "      <td>2.0</td>\n",
       "      <td>10.0</td>\n",
       "      <td>20.00</td>\n",
       "    </tr>\n",
       "    <tr>\n",
       "      <th>22</th>\n",
       "      <td>23</td>\n",
       "      <td>58.0</td>\n",
       "      <td>7.0</td>\n",
       "      <td>65.0</td>\n",
       "      <td>10.77</td>\n",
       "    </tr>\n",
       "    <tr>\n",
       "      <th>10</th>\n",
       "      <td>11</td>\n",
       "      <td>820.0</td>\n",
       "      <td>96.0</td>\n",
       "      <td>916.0</td>\n",
       "      <td>10.48</td>\n",
       "    </tr>\n",
       "    <tr>\n",
       "      <th>28</th>\n",
       "      <td>29</td>\n",
       "      <td>27.0</td>\n",
       "      <td>3.0</td>\n",
       "      <td>30.0</td>\n",
       "      <td>10.00</td>\n",
       "    </tr>\n",
       "  </tbody>\n",
       "</table>\n",
       "</div>"
      ],
      "text/plain": [
       "    length_of_service  not_promoted  promoted  total  probability\n",
       "33                 34           3.0       1.0    4.0        25.00\n",
       "31                 32           8.0       2.0   10.0        20.00\n",
       "22                 23          58.0       7.0   65.0        10.77\n",
       "10                 11         820.0      96.0  916.0        10.48\n",
       "28                 29          27.0       3.0   30.0        10.00"
      ]
     },
     "execution_count": 22,
     "metadata": {},
     "output_type": "execute_result"
    }
   ],
   "source": [
    "prob_los = df.groupby(['length_of_service','is_promoted'])['employee_id'].count().reset_index()\n",
    "los = prob_los.pivot_table(index='length_of_service', columns='is_promoted', \n",
    "                       values='employee_id').reset_index()\n",
    "los.columns = ['length_of_service', 'not_promoted', 'promoted']\n",
    "los['promoted'] = los['promoted'].fillna(0)\n",
    "los['total'] = los['not_promoted']+los['promoted']\n",
    "los['probability'] = round((los['promoted']/los['total'])*100,2)\n",
    "los = los.sort_values(['probability'], ascending=False)\n",
    "los.head()"
   ]
  },
  {
   "cell_type": "code",
   "execution_count": 23,
   "metadata": {},
   "outputs": [
    {
     "data": {
      "text/plain": [
       "<function matplotlib.pyplot.tight_layout(pad=1.08, h_pad=None, w_pad=None, rect=None)>"
      ]
     },
     "execution_count": 23,
     "metadata": {},
     "output_type": "execute_result"
    },
    {
     "data": {
      "image/png": "[encoded data removed]",
      "text/plain": [
       "<Figure size 1080x504 with 1 Axes>"
      ]
     },
     "metadata": {
      "needs_background": "light"
     },
     "output_type": "display_data"
    }
   ],
   "source": [
    "fig, (ax1) = plt.subplots(figsize=(15,7))\n",
    "sns.barplot(x='length_of_service', y='probability', \n",
    "                data=los,ax=ax1,palette='winter',\n",
    "               order=los.sort_values('length_of_service').length_of_service)\n",
    "\n",
    "\n",
    "title = '''Promotion by Length of Service'''\n",
    "fig.text(x=0.38, y=0.9, s=title, fontsize=20, weight='bold')\n",
    "\n",
    "plt.xlabel('Length of Service', fontsize = 20, weight='bold')\n",
    "plt.ylabel('Probability', fontsize = 20, weight='bold')\n",
    "\n",
    "plt.tight_layout\n",
    "# plt.savefig('los.png')"
   ]
  },
  {
   "cell_type": "markdown",
   "metadata": {},
   "source": [
    "Lamanya karyawan bekerja di MNC tidak begitu memiliki pengaruh dalam penentuan promosi pada Karyawan, dapat dilihat \n",
    "pada grafis dibawah, bila dilihat secara keseluruhan karyawan dengan bekerja selama 1 tahun sampai 11 tahun, memiliki\n",
    "perbedaan presentasi yang sedikit. Dari 12 sampai 34 tahun pun memiliki pola yang tidak beraturan."
   ]
  },
  {
   "cell_type": "code",
   "execution_count": 24,
   "metadata": {},
   "outputs": [
    {
     "data": {
      "text/html": [
       "<div>\n",
       "<style scoped>\n",
       "    .dataframe tbody tr th:only-of-type {\n",
       "        vertical-align: middle;\n",
       "    }\n",
       "\n",
       "    .dataframe tbody tr th {\n",
       "        vertical-align: top;\n",
       "    }\n",
       "\n",
       "    .dataframe thead th {\n",
       "        text-align: right;\n",
       "    }\n",
       "</style>\n",
       "<table border=\"1\" class=\"dataframe\">\n",
       "  <thead>\n",
       "    <tr style=\"text-align: right;\">\n",
       "      <th></th>\n",
       "      <th>region</th>\n",
       "      <th>not_promoted</th>\n",
       "      <th>promoted</th>\n",
       "      <th>promotion_probs</th>\n",
       "    </tr>\n",
       "  </thead>\n",
       "  <tbody>\n",
       "    <tr>\n",
       "      <th>0</th>\n",
       "      <td>region_4</td>\n",
       "      <td>1457</td>\n",
       "      <td>246</td>\n",
       "      <td>14.445097</td>\n",
       "    </tr>\n",
       "    <tr>\n",
       "      <th>1</th>\n",
       "      <td>region_17</td>\n",
       "      <td>687</td>\n",
       "      <td>109</td>\n",
       "      <td>13.693467</td>\n",
       "    </tr>\n",
       "    <tr>\n",
       "      <th>2</th>\n",
       "      <td>region_25</td>\n",
       "      <td>716</td>\n",
       "      <td>103</td>\n",
       "      <td>12.576313</td>\n",
       "    </tr>\n",
       "    <tr>\n",
       "      <th>3</th>\n",
       "      <td>region_28</td>\n",
       "      <td>1164</td>\n",
       "      <td>154</td>\n",
       "      <td>11.684370</td>\n",
       "    </tr>\n",
       "    <tr>\n",
       "      <th>4</th>\n",
       "      <td>region_23</td>\n",
       "      <td>1038</td>\n",
       "      <td>137</td>\n",
       "      <td>11.659574</td>\n",
       "    </tr>\n",
       "  </tbody>\n",
       "</table>\n",
       "</div>"
      ],
      "text/plain": [
       "      region  not_promoted  promoted  promotion_probs\n",
       "0   region_4          1457       246        14.445097\n",
       "1  region_17           687       109        13.693467\n",
       "2  region_25           716       103        12.576313\n",
       "3  region_28          1164       154        11.684370\n",
       "4  region_23          1038       137        11.659574"
      ]
     },
     "execution_count": 24,
     "metadata": {},
     "output_type": "execute_result"
    }
   ],
   "source": [
    "region_probs = df.groupby(['region', 'is_promoted']).agg({\n",
    "    'department': ['count']\n",
    "}).reset_index()\n",
    "\n",
    "region_probs.columns = ['region', 'is_promoted','employees']\n",
    "\n",
    "region_probs = pd.pivot_table(region_probs,\n",
    "                             index = 'region',\n",
    "                             columns = 'is_promoted',\n",
    "                             values = 'employees').reset_index()\n",
    "\n",
    "region_probs.columns = ['region','not_promoted','promoted']\n",
    "region_probs['promotion_probs'] = (region_probs['promoted']/(region_probs['not_promoted']+region_probs['promoted']))*100\n",
    "region_probs = region_probs.sort_values('promotion_probs', ascending=False).reset_index(drop=True)\n",
    "region_probs.head()"
   ]
  },
  {
   "cell_type": "code",
   "execution_count": 25,
   "metadata": {},
   "outputs": [
    {
     "data": {
      "text/plain": [
       "<function matplotlib.pyplot.tight_layout(pad=1.08, h_pad=None, w_pad=None, rect=None)>"
      ]
     },
     "execution_count": 25,
     "metadata": {},
     "output_type": "execute_result"
    },
    {
     "data": {
      "image/png": "[encoded data removed]",
      "text/plain": [
       "<Figure size 1800x720 with 1 Axes>"
      ]
     },
     "metadata": {
      "needs_background": "light"
     },
     "output_type": "display_data"
    }
   ],
   "source": [
    "fig, ax = plt.subplots(figsize=(25,10))\n",
    "\n",
    "sns.barplot(x='region', y='promotion_probs', data=region_probs,\n",
    "                order=region_probs.sort_values('promotion_probs')['region'],\n",
    "                palette = 'winter')\n",
    "title = '''\n",
    "Promotion by Region\n",
    "'''\n",
    "fig.text(x=0.4, y=0.89, s=title, fontsize=20, weight='bold')\n",
    "\n",
    "plt.xlabel('Region', fontsize = 15) \n",
    "plt.ylabel('Promotion Probabilities', fontsize = 15) \n",
    "\n",
    "plt.tight_layout\n",
    "# plt.savefig('region.png')"
   ]
  },
  {
   "cell_type": "markdown",
   "metadata": {},
   "source": [
    "Dari data region, employee yang mempunyai peluang besar untuk dipromosikan berada di region 4, 17, 25, 28, 23, 22, 3, 7  dengan probabilty > 10%"
   ]
  },
  {
   "cell_type": "code",
   "execution_count": 26,
   "metadata": {},
   "outputs": [
    {
     "data": {
      "text/html": [
       "<div>\n",
       "<style scoped>\n",
       "    .dataframe tbody tr th:only-of-type {\n",
       "        vertical-align: middle;\n",
       "    }\n",
       "\n",
       "    .dataframe tbody tr th {\n",
       "        vertical-align: top;\n",
       "    }\n",
       "\n",
       "    .dataframe thead th {\n",
       "        text-align: right;\n",
       "    }\n",
       "</style>\n",
       "<table border=\"1\" class=\"dataframe\">\n",
       "  <thead>\n",
       "    <tr style=\"text-align: right;\">\n",
       "      <th></th>\n",
       "      <th>no_of_trainings</th>\n",
       "      <th>not_promoted</th>\n",
       "      <th>promoted</th>\n",
       "      <th>total_employees</th>\n",
       "      <th>promotion_probs</th>\n",
       "    </tr>\n",
       "  </thead>\n",
       "  <tbody>\n",
       "    <tr>\n",
       "      <th>0</th>\n",
       "      <td>1</td>\n",
       "      <td>40468.0</td>\n",
       "      <td>3910.0</td>\n",
       "      <td>44378.0</td>\n",
       "      <td>8.810672</td>\n",
       "    </tr>\n",
       "    <tr>\n",
       "      <th>1</th>\n",
       "      <td>2</td>\n",
       "      <td>7382.0</td>\n",
       "      <td>605.0</td>\n",
       "      <td>7987.0</td>\n",
       "      <td>7.574809</td>\n",
       "    </tr>\n",
       "    <tr>\n",
       "      <th>2</th>\n",
       "      <td>3</td>\n",
       "      <td>1654.0</td>\n",
       "      <td>122.0</td>\n",
       "      <td>1776.0</td>\n",
       "      <td>6.869369</td>\n",
       "    </tr>\n",
       "    <tr>\n",
       "      <th>3</th>\n",
       "      <td>4</td>\n",
       "      <td>442.0</td>\n",
       "      <td>26.0</td>\n",
       "      <td>468.0</td>\n",
       "      <td>5.555556</td>\n",
       "    </tr>\n",
       "    <tr>\n",
       "      <th>4</th>\n",
       "      <td>6</td>\n",
       "      <td>42.0</td>\n",
       "      <td>2.0</td>\n",
       "      <td>44.0</td>\n",
       "      <td>4.545455</td>\n",
       "    </tr>\n",
       "    <tr>\n",
       "      <th>5</th>\n",
       "      <td>5</td>\n",
       "      <td>125.0</td>\n",
       "      <td>3.0</td>\n",
       "      <td>128.0</td>\n",
       "      <td>2.343750</td>\n",
       "    </tr>\n",
       "    <tr>\n",
       "      <th>6</th>\n",
       "      <td>7</td>\n",
       "      <td>12.0</td>\n",
       "      <td>NaN</td>\n",
       "      <td>NaN</td>\n",
       "      <td>NaN</td>\n",
       "    </tr>\n",
       "    <tr>\n",
       "      <th>7</th>\n",
       "      <td>8</td>\n",
       "      <td>5.0</td>\n",
       "      <td>NaN</td>\n",
       "      <td>NaN</td>\n",
       "      <td>NaN</td>\n",
       "    </tr>\n",
       "    <tr>\n",
       "      <th>8</th>\n",
       "      <td>9</td>\n",
       "      <td>5.0</td>\n",
       "      <td>NaN</td>\n",
       "      <td>NaN</td>\n",
       "      <td>NaN</td>\n",
       "    </tr>\n",
       "    <tr>\n",
       "      <th>9</th>\n",
       "      <td>10</td>\n",
       "      <td>5.0</td>\n",
       "      <td>NaN</td>\n",
       "      <td>NaN</td>\n",
       "      <td>NaN</td>\n",
       "    </tr>\n",
       "  </tbody>\n",
       "</table>\n",
       "</div>"
      ],
      "text/plain": [
       "   no_of_trainings  not_promoted  promoted  total_employees  promotion_probs\n",
       "0                1       40468.0    3910.0          44378.0         8.810672\n",
       "1                2        7382.0     605.0           7987.0         7.574809\n",
       "2                3        1654.0     122.0           1776.0         6.869369\n",
       "3                4         442.0      26.0            468.0         5.555556\n",
       "4                6          42.0       2.0             44.0         4.545455\n",
       "5                5         125.0       3.0            128.0         2.343750\n",
       "6                7          12.0       NaN              NaN              NaN\n",
       "7                8           5.0       NaN              NaN              NaN\n",
       "8                9           5.0       NaN              NaN              NaN\n",
       "9               10           5.0       NaN              NaN              NaN"
      ]
     },
     "execution_count": 26,
     "metadata": {},
     "output_type": "execute_result"
    }
   ],
   "source": [
    "nof_probs = df.groupby(['no_of_trainings', 'is_promoted']).agg({\n",
    "    'department': ['count']\n",
    "}).reset_index()\n",
    "\n",
    "nof_probs.columns = ['no_of_trainings', 'is_promoted','employees']\n",
    "\n",
    "nof_probs = pd.pivot_table(nof_probs,\n",
    "                             index = 'no_of_trainings',\n",
    "                             columns = 'is_promoted',\n",
    "                             values = 'employees').reset_index()\n",
    "\n",
    "nof_probs.columns = ['no_of_trainings','not_promoted','promoted']\n",
    "nof_probs['total_employees'] = nof_probs['not_promoted'] + nof_probs['promoted']\n",
    "nof_probs['promotion_probs'] = (nof_probs['promoted']/(nof_probs['not_promoted']+nof_probs['promoted']))*100\n",
    "nof_probs = nof_probs.sort_values('promotion_probs', ascending=False).reset_index(drop=True)\n",
    "nof_probs"
   ]
  },
  {
   "cell_type": "code",
   "execution_count": 27,
   "metadata": {},
   "outputs": [],
   "source": [
    "nof_probs.dropna(inplace = True)"
   ]
  },
  {
   "cell_type": "code",
   "execution_count": 28,
   "metadata": {},
   "outputs": [
    {
     "data": {
      "text/plain": [
       "<function matplotlib.pyplot.tight_layout(pad=1.08, h_pad=None, w_pad=None, rect=None)>"
      ]
     },
     "execution_count": 28,
     "metadata": {},
     "output_type": "execute_result"
    },
    {
     "data": {
      "image/png": "[encoded data removed]",
      "text/plain": [
       "<Figure size 1080x504 with 1 Axes>"
      ]
     },
     "metadata": {
      "needs_background": "light"
     },
     "output_type": "display_data"
    }
   ],
   "source": [
    "fig, ax = plt.subplots(figsize=(15,7))\n",
    "\n",
    "sns.barplot(x='no_of_trainings', y='promotion_probs', data=nof_probs,\n",
    "                order=nof_probs.sort_values('promotion_probs')['no_of_trainings'],\n",
    "                palette='winter')\n",
    "title = '''\n",
    "Promotion by Number of Trainings\n",
    "'''\n",
    "fig.text(x=0.38, y=0.88, s=title, fontsize=20, weight='bold')\n",
    "\n",
    "plt.tight_layout\n",
    "# plt.savefig('nof.png')"
   ]
  },
  {
   "cell_type": "markdown",
   "metadata": {},
   "source": [
    "Employee yang mengikuti traning 1 kali memiliki tingkat dipromosikan paling tinggi"
   ]
  },
  {
   "cell_type": "code",
   "execution_count": 29,
   "metadata": {},
   "outputs": [
    {
     "data": {
      "text/html": [
       "<div>\n",
       "<style scoped>\n",
       "    .dataframe tbody tr th:only-of-type {\n",
       "        vertical-align: middle;\n",
       "    }\n",
       "\n",
       "    .dataframe tbody tr th {\n",
       "        vertical-align: top;\n",
       "    }\n",
       "\n",
       "    .dataframe thead th {\n",
       "        text-align: right;\n",
       "    }\n",
       "</style>\n",
       "<table border=\"1\" class=\"dataframe\">\n",
       "  <thead>\n",
       "    <tr style=\"text-align: right;\">\n",
       "      <th></th>\n",
       "      <th>avg_training_score</th>\n",
       "      <th>not_promoted</th>\n",
       "      <th>promoted</th>\n",
       "      <th>total</th>\n",
       "      <th>probability</th>\n",
       "    </tr>\n",
       "  </thead>\n",
       "  <tbody>\n",
       "    <tr>\n",
       "      <th>25</th>\n",
       "      <td>64</td>\n",
       "      <td>627.0</td>\n",
       "      <td>81.0</td>\n",
       "      <td>708.0</td>\n",
       "      <td>11.44</td>\n",
       "    </tr>\n",
       "    <tr>\n",
       "      <th>31</th>\n",
       "      <td>70</td>\n",
       "      <td>932.0</td>\n",
       "      <td>123.0</td>\n",
       "      <td>1055.0</td>\n",
       "      <td>11.66</td>\n",
       "    </tr>\n",
       "    <tr>\n",
       "      <th>33</th>\n",
       "      <td>72</td>\n",
       "      <td>639.0</td>\n",
       "      <td>86.0</td>\n",
       "      <td>725.0</td>\n",
       "      <td>11.86</td>\n",
       "    </tr>\n",
       "    <tr>\n",
       "      <th>32</th>\n",
       "      <td>71</td>\n",
       "      <td>790.0</td>\n",
       "      <td>108.0</td>\n",
       "      <td>898.0</td>\n",
       "      <td>12.03</td>\n",
       "    </tr>\n",
       "    <tr>\n",
       "      <th>36</th>\n",
       "      <td>75</td>\n",
       "      <td>354.0</td>\n",
       "      <td>49.0</td>\n",
       "      <td>403.0</td>\n",
       "      <td>12.16</td>\n",
       "    </tr>\n",
       "    <tr>\n",
       "      <th>48</th>\n",
       "      <td>87</td>\n",
       "      <td>571.0</td>\n",
       "      <td>84.0</td>\n",
       "      <td>655.0</td>\n",
       "      <td>12.82</td>\n",
       "    </tr>\n",
       "    <tr>\n",
       "      <th>47</th>\n",
       "      <td>86</td>\n",
       "      <td>792.0</td>\n",
       "      <td>120.0</td>\n",
       "      <td>912.0</td>\n",
       "      <td>13.16</td>\n",
       "    </tr>\n",
       "    <tr>\n",
       "      <th>35</th>\n",
       "      <td>74</td>\n",
       "      <td>359.0</td>\n",
       "      <td>74.0</td>\n",
       "      <td>433.0</td>\n",
       "      <td>17.09</td>\n",
       "    </tr>\n",
       "    <tr>\n",
       "      <th>49</th>\n",
       "      <td>88</td>\n",
       "      <td>362.0</td>\n",
       "      <td>82.0</td>\n",
       "      <td>444.0</td>\n",
       "      <td>18.47</td>\n",
       "    </tr>\n",
       "    <tr>\n",
       "      <th>50</th>\n",
       "      <td>89</td>\n",
       "      <td>217.0</td>\n",
       "      <td>84.0</td>\n",
       "      <td>301.0</td>\n",
       "      <td>27.91</td>\n",
       "    </tr>\n",
       "    <tr>\n",
       "      <th>51</th>\n",
       "      <td>90</td>\n",
       "      <td>106.0</td>\n",
       "      <td>79.0</td>\n",
       "      <td>185.0</td>\n",
       "      <td>42.70</td>\n",
       "    </tr>\n",
       "    <tr>\n",
       "      <th>52</th>\n",
       "      <td>91</td>\n",
       "      <td>41.0</td>\n",
       "      <td>76.0</td>\n",
       "      <td>117.0</td>\n",
       "      <td>64.96</td>\n",
       "    </tr>\n",
       "    <tr>\n",
       "      <th>53</th>\n",
       "      <td>92</td>\n",
       "      <td>18.0</td>\n",
       "      <td>81.0</td>\n",
       "      <td>99.0</td>\n",
       "      <td>81.82</td>\n",
       "    </tr>\n",
       "    <tr>\n",
       "      <th>54</th>\n",
       "      <td>93</td>\n",
       "      <td>9.0</td>\n",
       "      <td>75.0</td>\n",
       "      <td>84.0</td>\n",
       "      <td>89.29</td>\n",
       "    </tr>\n",
       "    <tr>\n",
       "      <th>55</th>\n",
       "      <td>94</td>\n",
       "      <td>2.0</td>\n",
       "      <td>63.0</td>\n",
       "      <td>65.0</td>\n",
       "      <td>96.92</td>\n",
       "    </tr>\n",
       "    <tr>\n",
       "      <th>57</th>\n",
       "      <td>96</td>\n",
       "      <td>1.0</td>\n",
       "      <td>47.0</td>\n",
       "      <td>48.0</td>\n",
       "      <td>97.92</td>\n",
       "    </tr>\n",
       "    <tr>\n",
       "      <th>56</th>\n",
       "      <td>95</td>\n",
       "      <td>0.0</td>\n",
       "      <td>45.0</td>\n",
       "      <td>45.0</td>\n",
       "      <td>100.00</td>\n",
       "    </tr>\n",
       "    <tr>\n",
       "      <th>58</th>\n",
       "      <td>97</td>\n",
       "      <td>0.0</td>\n",
       "      <td>49.0</td>\n",
       "      <td>49.0</td>\n",
       "      <td>100.00</td>\n",
       "    </tr>\n",
       "    <tr>\n",
       "      <th>59</th>\n",
       "      <td>98</td>\n",
       "      <td>0.0</td>\n",
       "      <td>37.0</td>\n",
       "      <td>37.0</td>\n",
       "      <td>100.00</td>\n",
       "    </tr>\n",
       "    <tr>\n",
       "      <th>60</th>\n",
       "      <td>99</td>\n",
       "      <td>0.0</td>\n",
       "      <td>35.0</td>\n",
       "      <td>35.0</td>\n",
       "      <td>100.00</td>\n",
       "    </tr>\n",
       "  </tbody>\n",
       "</table>\n",
       "</div>"
      ],
      "text/plain": [
       "    avg_training_score  not_promoted  promoted   total  probability\n",
       "25                  64         627.0      81.0   708.0        11.44\n",
       "31                  70         932.0     123.0  1055.0        11.66\n",
       "33                  72         639.0      86.0   725.0        11.86\n",
       "32                  71         790.0     108.0   898.0        12.03\n",
       "36                  75         354.0      49.0   403.0        12.16\n",
       "48                  87         571.0      84.0   655.0        12.82\n",
       "47                  86         792.0     120.0   912.0        13.16\n",
       "35                  74         359.0      74.0   433.0        17.09\n",
       "49                  88         362.0      82.0   444.0        18.47\n",
       "50                  89         217.0      84.0   301.0        27.91\n",
       "51                  90         106.0      79.0   185.0        42.70\n",
       "52                  91          41.0      76.0   117.0        64.96\n",
       "53                  92          18.0      81.0    99.0        81.82\n",
       "54                  93           9.0      75.0    84.0        89.29\n",
       "55                  94           2.0      63.0    65.0        96.92\n",
       "57                  96           1.0      47.0    48.0        97.92\n",
       "56                  95           0.0      45.0    45.0       100.00\n",
       "58                  97           0.0      49.0    49.0       100.00\n",
       "59                  98           0.0      37.0    37.0       100.00\n",
       "60                  99           0.0      35.0    35.0       100.00"
      ]
     },
     "execution_count": 29,
     "metadata": {},
     "output_type": "execute_result"
    }
   ],
   "source": [
    "prob_avg = df.groupby(['avg_training_score','is_promoted'])['employee_id'].count().reset_index()\n",
    "avg = prob_avg.pivot_table(index='avg_training_score', columns='is_promoted', \n",
    "                       values='employee_id').reset_index()\n",
    "avg.columns = ['avg_training_score', 'not_promoted', 'promoted']\n",
    "avg['not_promoted'] = avg['not_promoted'].fillna(0)\n",
    "avg['promoted'] = avg['promoted'].fillna(0)\n",
    "avg['total'] = avg['not_promoted']+avg['promoted']\n",
    "avg['probability'] = round((avg['promoted']/avg['total'])*100,2)\n",
    "avg = avg.sort_values(['probability'],ascending=True).tail(20)\n",
    "avg"
   ]
  },
  {
   "cell_type": "code",
   "execution_count": 30,
   "metadata": {},
   "outputs": [
    {
     "data": {
      "text/plain": [
       "<function matplotlib.pyplot.tight_layout(pad=1.08, h_pad=None, w_pad=None, rect=None)>"
      ]
     },
     "execution_count": 30,
     "metadata": {},
     "output_type": "execute_result"
    },
    {
     "data": {
      "image/png": "[encoded data removed]",
      "text/plain": [
       "<Figure size 864x504 with 1 Axes>"
      ]
     },
     "metadata": {
      "needs_background": "light"
     },
     "output_type": "display_data"
    }
   ],
   "source": [
    "fig, ax = plt.subplots(figsize=(12,7))\n",
    "\n",
    "\n",
    "sns.barplot(x='avg_training_score', y='probability', data=avg,\n",
    "                order=avg.sort_values('probability')['avg_training_score'],\n",
    "                palette='winter')\n",
    "title = '''\n",
    "Promotion by Average Training Score\n",
    "'''\n",
    "fig.text(x=0.3, y=0.9, s=title, fontsize=20, weight='bold')\n",
    "\n",
    "plt.tight_layout\n",
    "# plt.savefig('avg.png')"
   ]
  },
  {
   "cell_type": "markdown",
   "metadata": {},
   "source": [
    "Rata - rata nilai training test mempunyai pengaruh cukup signifikan dalam promosi kenaikan jabatan, terlihat \n",
    "dari grafis, karyawan yang mempunyai rata - rata nilai training test mulai dari 88 sampai 99, memiliki presentase \n",
    "kenaikan jabatan yang terus meningkat."
   ]
  },
  {
   "cell_type": "markdown",
   "metadata": {},
   "source": [
    "## Data Cleansing & Preprocessing"
   ]
  },
  {
   "cell_type": "markdown",
   "metadata": {},
   "source": [
    "* 0 = Not Promoted\n",
    "* 1 = Is Promoted\n",
    "\n",
    "        - TN: employee tidak mendapatkan promosi\n",
    "        - TP: employee mendapatkan promosi\n",
    "        - FP: employee diprediksi mendapatkan promosi , padahal sebenarnya/realisasinya employee tidak dipromosikan.\n",
    "        - FN: employee diprediksi tidak mendapatkan promosi, padahal sebenernya/realisasinya employee diprekdisi dipromosikan\n",
    "        \n",
    "Tindakan:\n",
    "* FP: Salah prediksi, team HR dianggap tidak kompeten karena melakukan prediksi yang salah (precision) \n",
    "* FN: Salah prediksi, team HR dapat dianggap lalai karena tidak melakukan promosi kepada employee, sehingga menyebabkan employee yang berkompeten dapat resign terlebih dahulu, dan team HR dapat disalahkan oleh beberapa department, karena tidak mempromosikan karyawan yang diprediksi akan dipromosikan (recall)\n",
    "\n",
    "- > Yang akan di tekan adalah FN, untuk meminimalisir kesalahan HR dalam prediksi promosi karyawan"
   ]
  },
  {
   "cell_type": "code",
   "execution_count": 31,
   "metadata": {},
   "outputs": [
    {
     "data": {
      "text/html": [
       "<div>\n",
       "<style scoped>\n",
       "    .dataframe tbody tr th:only-of-type {\n",
       "        vertical-align: middle;\n",
       "    }\n",
       "\n",
       "    .dataframe tbody tr th {\n",
       "        vertical-align: top;\n",
       "    }\n",
       "\n",
       "    .dataframe thead th {\n",
       "        text-align: right;\n",
       "    }\n",
       "</style>\n",
       "<table border=\"1\" class=\"dataframe\">\n",
       "  <thead>\n",
       "    <tr style=\"text-align: right;\">\n",
       "      <th></th>\n",
       "      <th>department</th>\n",
       "      <th>region</th>\n",
       "      <th>education</th>\n",
       "      <th>gender</th>\n",
       "      <th>recruitment_channel</th>\n",
       "      <th>no_of_trainings</th>\n",
       "      <th>age</th>\n",
       "      <th>previous_year_rating</th>\n",
       "      <th>length_of_service</th>\n",
       "      <th>KPIs_met &gt;80%</th>\n",
       "      <th>awards_won?</th>\n",
       "      <th>avg_training_score</th>\n",
       "      <th>is_promoted</th>\n",
       "    </tr>\n",
       "  </thead>\n",
       "  <tbody>\n",
       "    <tr>\n",
       "      <th>37550</th>\n",
       "      <td>Technology</td>\n",
       "      <td>region_2</td>\n",
       "      <td>Bachelor's</td>\n",
       "      <td>f</td>\n",
       "      <td>other</td>\n",
       "      <td>1</td>\n",
       "      <td>50</td>\n",
       "      <td>3.0</td>\n",
       "      <td>19</td>\n",
       "      <td>0</td>\n",
       "      <td>0</td>\n",
       "      <td>76</td>\n",
       "      <td>0</td>\n",
       "    </tr>\n",
       "  </tbody>\n",
       "</table>\n",
       "</div>"
      ],
      "text/plain": [
       "       department    region   education gender recruitment_channel  \\\n",
       "37550  Technology  region_2  Bachelor's      f               other   \n",
       "\n",
       "       no_of_trainings  age  previous_year_rating  length_of_service  \\\n",
       "37550                1   50                   3.0                 19   \n",
       "\n",
       "       KPIs_met >80%  awards_won?  avg_training_score  is_promoted  \n",
       "37550              0            0                  76            0  "
      ]
     },
     "execution_count": 31,
     "metadata": {},
     "output_type": "execute_result"
    }
   ],
   "source": [
    "df_model = df.copy()\n",
    "df_model = df_model.drop('employee_id',axis = 1)\n",
    "df_model.sample()"
   ]
  },
  {
   "cell_type": "code",
   "execution_count": 32,
   "metadata": {},
   "outputs": [
    {
     "data": {
      "text/plain": [
       "0    50140\n",
       "1     4668\n",
       "Name: is_promoted, dtype: int64"
      ]
     },
     "execution_count": 32,
     "metadata": {},
     "output_type": "execute_result"
    }
   ],
   "source": [
    "df_model.is_promoted.value_counts()"
   ]
  },
  {
   "cell_type": "code",
   "execution_count": 33,
   "metadata": {},
   "outputs": [
    {
     "data": {
      "text/plain": [
       "department                 0\n",
       "region                     0\n",
       "education               2409\n",
       "gender                     0\n",
       "recruitment_channel        0\n",
       "no_of_trainings            0\n",
       "age                        0\n",
       "previous_year_rating    4124\n",
       "length_of_service          0\n",
       "KPIs_met >80%              0\n",
       "awards_won?                0\n",
       "avg_training_score         0\n",
       "is_promoted                0\n",
       "dtype: int64"
      ]
     },
     "execution_count": 33,
     "metadata": {},
     "output_type": "execute_result"
    }
   ],
   "source": [
    "df_model.isna().sum()"
   ]
  },
  {
   "cell_type": "code",
   "execution_count": 34,
   "metadata": {},
   "outputs": [],
   "source": [
    "# PreProcessing\n",
    "from sklearn.compose import ColumnTransformer\n",
    "from sklearn.preprocessing import OneHotEncoder,RobustScaler\n",
    "import category_encoders as ce\n",
    "from category_encoders import BinaryEncoder\n",
    "from sklearn.pipeline import Pipeline\n",
    "from sklearn.impute import SimpleImputer"
   ]
  },
  {
   "cell_type": "markdown",
   "metadata": {},
   "source": [
    "## *Preprocessing Scheme*\n",
    "\n",
    "- BinaryEncode : `department`,`region`,`recruitment_channel`\n",
    "- OneHotEncode: `education`, `gender`\n",
    "- Handling Missing Value: `education` --> Modus, `previous_year_rating` --> Median\n",
    "- Data yang di passthrough --> `gender`, `KPIs_met >80%` , `awards_won?`"
   ]
  },
  {
   "cell_type": "code",
   "execution_count": 35,
   "metadata": {},
   "outputs": [],
   "source": [
    "mode_onehot_pipe = Pipeline([\n",
    "    ('encoder', SimpleImputer(strategy = 'most_frequent')),\n",
    "    ('one hot encoder', OneHotEncoder(handle_unknown = 'ignore'))\n",
    "])"
   ]
  },
  {
   "cell_type": "code",
   "execution_count": 36,
   "metadata": {},
   "outputs": [],
   "source": [
    "binary_pipe = Pipeline([('encoder',SimpleImputer(strategy='most_frequent')),\n",
    "                  ('binary encoder',ce.BinaryEncoder())\n",
    "                       ])"
   ]
  },
  {
   "cell_type": "code",
   "execution_count": 37,
   "metadata": {},
   "outputs": [],
   "source": [
    "median_imp = Pipeline([\n",
    "    ('impute', SimpleImputer(strategy = 'median')),\n",
    "    ('scaling', RobustScaler())\n",
    "])"
   ]
  },
  {
   "cell_type": "code",
   "execution_count": 38,
   "metadata": {},
   "outputs": [],
   "source": [
    "transformer = ColumnTransformer([\n",
    "    ('binary',binary_pipe,['region']),\n",
    "    ('mode_onehot_pipe',mode_onehot_pipe,['education', 'gender','recruitment_channel','department']),\n",
    "    ('median imputer',median_imp,['previous_year_rating']),\n",
    "    ('scaler',RobustScaler(),['age','length_of_service','avg_training_score','no_of_trainings'])\n",
    "    ],remainder='passthrough')"
   ]
  },
  {
   "cell_type": "code",
   "execution_count": 39,
   "metadata": {},
   "outputs": [
    {
     "data": {
      "text/plain": [
       "0    91.482995\n",
       "1     8.517005\n",
       "Name: is_promoted, dtype: float64"
      ]
     },
     "execution_count": 39,
     "metadata": {},
     "output_type": "execute_result"
    }
   ],
   "source": [
    "df_model['is_promoted'].value_counts()/df_model.shape[0]*100"
   ]
  },
  {
   "cell_type": "markdown",
   "metadata": {},
   "source": [
    "> ### *Splitting Data*"
   ]
  },
  {
   "cell_type": "code",
   "execution_count": 40,
   "metadata": {},
   "outputs": [],
   "source": [
    "# Splitting Data\n",
    "from sklearn.model_selection import train_test_split, StratifiedKFold, cross_val_score"
   ]
  },
  {
   "cell_type": "code",
   "execution_count": 41,
   "metadata": {},
   "outputs": [],
   "source": [
    "X = df_model.drop('is_promoted', axis = 1)\n",
    "y = df_model['is_promoted']"
   ]
  },
  {
   "cell_type": "code",
   "execution_count": 42,
   "metadata": {},
   "outputs": [
    {
     "data": {
      "text/plain": [
       "(54808, 12)"
      ]
     },
     "execution_count": 42,
     "metadata": {},
     "output_type": "execute_result"
    }
   ],
   "source": [
    "X.shape"
   ]
  },
  {
   "cell_type": "code",
   "execution_count": 43,
   "metadata": {},
   "outputs": [],
   "source": [
    "X_train,X_test,y_train,y_test=train_test_split(\n",
    "    X,y,stratify=y,\n",
    "    test_size=0.3,\n",
    "    random_state=1212)"
   ]
  },
  {
   "cell_type": "markdown",
   "metadata": {},
   "source": [
    "> ### Modelling"
   ]
  },
  {
   "cell_type": "code",
   "execution_count": 44,
   "metadata": {},
   "outputs": [],
   "source": [
    "# Modeling, Fitting and Evaluation\n",
    "from sklearn.linear_model import LogisticRegression\n",
    "from sklearn.metrics import classification_report, precision_score, plot_precision_recall_curve, f1_score,recall_score\n",
    "from sklearn.tree import DecisionTreeClassifier\n",
    "from sklearn.neighbors import KNeighborsClassifier\n",
    "from sklearn.preprocessing import StandardScaler\n",
    "from sklearn.model_selection import RandomizedSearchCV, GridSearchCV\n",
    "from sklearn.ensemble import RandomForestClassifier"
   ]
  },
  {
   "cell_type": "code",
   "execution_count": 45,
   "metadata": {},
   "outputs": [],
   "source": [
    "logreg = LogisticRegression()\n",
    "tree = DecisionTreeClassifier(random_state = 1212)\n",
    "knn = KNeighborsClassifier()\n",
    "rf = RandomForestClassifier(random_state = 1212)"
   ]
  },
  {
   "cell_type": "code",
   "execution_count": 46,
   "metadata": {},
   "outputs": [
    {
     "data": {
      "text/html": [
       "<div>\n",
       "<style scoped>\n",
       "    .dataframe tbody tr th:only-of-type {\n",
       "        vertical-align: middle;\n",
       "    }\n",
       "\n",
       "    .dataframe tbody tr th {\n",
       "        vertical-align: top;\n",
       "    }\n",
       "\n",
       "    .dataframe thead th {\n",
       "        text-align: right;\n",
       "    }\n",
       "</style>\n",
       "<table border=\"1\" class=\"dataframe\">\n",
       "  <thead>\n",
       "    <tr style=\"text-align: right;\">\n",
       "      <th></th>\n",
       "      <th>method</th>\n",
       "      <th>mean score</th>\n",
       "      <th>std score</th>\n",
       "      <th>recall score</th>\n",
       "    </tr>\n",
       "  </thead>\n",
       "  <tbody>\n",
       "    <tr>\n",
       "      <th>0</th>\n",
       "      <td>Logistic Regression</td>\n",
       "      <td>0.252442</td>\n",
       "      <td>0.017606</td>\n",
       "      <td>0.253571</td>\n",
       "    </tr>\n",
       "    <tr>\n",
       "      <th>1</th>\n",
       "      <td>Decision Tree Classifier</td>\n",
       "      <td>0.460522</td>\n",
       "      <td>0.021007</td>\n",
       "      <td>0.457857</td>\n",
       "    </tr>\n",
       "    <tr>\n",
       "      <th>2</th>\n",
       "      <td>KNN Classifier</td>\n",
       "      <td>0.071908</td>\n",
       "      <td>0.009722</td>\n",
       "      <td>0.072143</td>\n",
       "    </tr>\n",
       "    <tr>\n",
       "      <th>3</th>\n",
       "      <td>Random Forest Classifier</td>\n",
       "      <td>0.263157</td>\n",
       "      <td>0.006596</td>\n",
       "      <td>0.270000</td>\n",
       "    </tr>\n",
       "  </tbody>\n",
       "</table>\n",
       "</div>"
      ],
      "text/plain": [
       "                     method  mean score  std score  recall score\n",
       "0       Logistic Regression    0.252442   0.017606      0.253571\n",
       "1  Decision Tree Classifier    0.460522   0.021007      0.457857\n",
       "2            KNN Classifier    0.071908   0.009722      0.072143\n",
       "3  Random Forest Classifier    0.263157   0.006596      0.270000"
      ]
     },
     "execution_count": 46,
     "metadata": {},
     "output_type": "execute_result"
    }
   ],
   "source": [
    "logreg_pipe = Pipeline([('transformer', transformer), ('logreg', logreg)])\n",
    "tree_pipe = Pipeline([('transformer', transformer), ('tree', tree)])\n",
    "knn_pipe = Pipeline([('transformer', transformer), ('knn', knn)])\n",
    "rf_pipe = Pipeline([('transformer', transformer), ('rf', rf)])\n",
    "\n",
    "def model_evaluation(model, metric):\n",
    "    skfold = StratifiedKFold(n_splits = 5)\n",
    "    model_cv = cross_val_score(model, X_train, y_train, cv = skfold, scoring = metric)\n",
    "    return model_cv\n",
    "\n",
    "logreg_pipe_cv = model_evaluation(logreg_pipe, 'recall')\n",
    "tree_pipe_cv = model_evaluation(tree_pipe, 'recall')\n",
    "knn_pipe_cv = model_evaluation(knn_pipe, 'recall')\n",
    "rf_pipe_cv = model_evaluation(rf_pipe, 'recall')\n",
    "\n",
    "for model in [logreg_pipe, tree_pipe, knn_pipe, rf_pipe]:\n",
    "    model.fit(X_train, y_train)\n",
    "    \n",
    "score_mean = [logreg_pipe_cv.mean(), tree_pipe_cv.mean(), knn_pipe_cv.mean(), rf_pipe_cv.mean()]\n",
    "score_std = [logreg_pipe_cv.std(), tree_pipe_cv.std(), knn_pipe_cv.std(), rf_pipe_cv.std()]\n",
    "score_recall_score = [recall_score(y_test, logreg_pipe.predict(X_test)),\n",
    "            recall_score(y_test, tree_pipe.predict(X_test)), \n",
    "            recall_score(y_test, knn_pipe.predict(X_test)), \n",
    "            recall_score(y_test, rf_pipe.predict(X_test))]\n",
    "method_name = ['Logistic Regression', 'Decision Tree Classifier', 'KNN Classifier', 'Random Forest Classifier']\n",
    "cv_summary = pd.DataFrame({\n",
    "    'method': method_name,\n",
    "    'mean score': score_mean,\n",
    "    'std score': score_std,\n",
    "    'recall score': score_recall_score\n",
    "})\n",
    "cv_summary"
   ]
  },
  {
   "cell_type": "code",
   "execution_count": 47,
   "metadata": {},
   "outputs": [
    {
     "name": "stdout",
     "output_type": "stream",
     "text": [
      "              precision    recall  f1-score   support\n",
      "\n",
      "           0       0.94      0.99      0.96     15043\n",
      "           1       0.80      0.27      0.40      1400\n",
      "\n",
      "    accuracy                           0.93     16443\n",
      "   macro avg       0.87      0.63      0.68     16443\n",
      "weighted avg       0.92      0.93      0.92     16443\n",
      "\n"
     ]
    }
   ],
   "source": [
    "rf_pipe.fit(X_train,y_train)\n",
    "print(classification_report(y_test,rf_pipe.predict(X_test)))"
   ]
  },
  {
   "cell_type": "code",
   "execution_count": 48,
   "metadata": {},
   "outputs": [
    {
     "data": {
      "text/plain": [
       "<sklearn.metrics._plot.precision_recall_curve.PrecisionRecallDisplay at 0x7f8610cf0100>"
      ]
     },
     "execution_count": 48,
     "metadata": {},
     "output_type": "execute_result"
    },
    {
     "data": {
      "image/png": "[encoded data removed]",
      "text/plain": [
       "<Figure size 432x288 with 1 Axes>"
      ]
     },
     "metadata": {
      "needs_background": "light"
     },
     "output_type": "display_data"
    }
   ],
   "source": [
    "plot_precision_recall_curve(logreg_pipe,X_test,y_test)"
   ]
  },
  {
   "cell_type": "code",
   "execution_count": 49,
   "metadata": {},
   "outputs": [],
   "source": [
    "# Resampling\n",
    "from imblearn.over_sampling import RandomOverSampler, SMOTE\n",
    "from imblearn.under_sampling import RandomUnderSampler\n",
    "from imblearn.pipeline import Pipeline"
   ]
  },
  {
   "cell_type": "code",
   "execution_count": 50,
   "metadata": {},
   "outputs": [
    {
     "data": {
      "text/html": [
       "<div>\n",
       "<style scoped>\n",
       "    .dataframe tbody tr th:only-of-type {\n",
       "        vertical-align: middle;\n",
       "    }\n",
       "\n",
       "    .dataframe tbody tr th {\n",
       "        vertical-align: top;\n",
       "    }\n",
       "\n",
       "    .dataframe thead th {\n",
       "        text-align: right;\n",
       "    }\n",
       "</style>\n",
       "<table border=\"1\" class=\"dataframe\">\n",
       "  <thead>\n",
       "    <tr style=\"text-align: right;\">\n",
       "      <th></th>\n",
       "      <th>method</th>\n",
       "      <th>mean score</th>\n",
       "      <th>std score</th>\n",
       "      <th>recall score</th>\n",
       "    </tr>\n",
       "  </thead>\n",
       "  <tbody>\n",
       "    <tr>\n",
       "      <th>0</th>\n",
       "      <td>Logistic Regression UnderSampling</td>\n",
       "      <td>0.815178</td>\n",
       "      <td>0.008460</td>\n",
       "      <td>0.801429</td>\n",
       "    </tr>\n",
       "    <tr>\n",
       "      <th>1</th>\n",
       "      <td>Decision Tree Classifier UnderSampling</td>\n",
       "      <td>0.753366</td>\n",
       "      <td>0.005891</td>\n",
       "      <td>0.757143</td>\n",
       "    </tr>\n",
       "    <tr>\n",
       "      <th>2</th>\n",
       "      <td>KNN Classifier UnderSampling</td>\n",
       "      <td>0.698288</td>\n",
       "      <td>0.015731</td>\n",
       "      <td>0.683571</td>\n",
       "    </tr>\n",
       "    <tr>\n",
       "      <th>3</th>\n",
       "      <td>Random Forest Classifier UnderSampling</td>\n",
       "      <td>0.848230</td>\n",
       "      <td>0.017329</td>\n",
       "      <td>0.856429</td>\n",
       "    </tr>\n",
       "  </tbody>\n",
       "</table>\n",
       "</div>"
      ],
      "text/plain": [
       "                                   method  mean score  std score  recall score\n",
       "0       Logistic Regression UnderSampling    0.815178   0.008460      0.801429\n",
       "1  Decision Tree Classifier UnderSampling    0.753366   0.005891      0.757143\n",
       "2            KNN Classifier UnderSampling    0.698288   0.015731      0.683571\n",
       "3  Random Forest Classifier UnderSampling    0.848230   0.017329      0.856429"
      ]
     },
     "execution_count": 50,
     "metadata": {},
     "output_type": "execute_result"
    }
   ],
   "source": [
    "rus = RandomUnderSampler(random_state = 1212)\n",
    "\n",
    "logreg_pipe_under = Pipeline([('transformer', transformer), ('rus', rus), ('logreg', logreg)])\n",
    "tree_pipe_under = Pipeline([('transformer', transformer), ('rus', rus), ('tree', tree)])\n",
    "knn_pipe_under = Pipeline([('transformer', transformer), ('rus', rus), ('knn', knn)])\n",
    "rf_pipe_under = Pipeline([('transformer', transformer), ('rus', rus), ('rf', rf)])\n",
    "\n",
    "def model_evaluation(model, metric):\n",
    "    skfold = StratifiedKFold(n_splits = 5)\n",
    "    model_cv = cross_val_score(model, X_train, y_train, cv = skfold, scoring = metric)\n",
    "    return model_cv\n",
    "\n",
    "logreg_under_cv = model_evaluation(logreg_pipe_under, 'recall') \n",
    "tree_under_cv = model_evaluation(tree_pipe_under, 'recall')\n",
    "knn_under_cv = model_evaluation(knn_pipe_under, 'recall')\n",
    "rf_under_cv = model_evaluation(rf_pipe_under, 'recall')\n",
    "\n",
    "for model in [logreg_pipe_under, tree_pipe_under, knn_pipe_under, rf_pipe_under]:\n",
    "    model.fit(X_train, y_train)\n",
    "    \n",
    "score_mean = [logreg_under_cv.mean(), tree_under_cv.mean(), knn_under_cv.mean(),\n",
    "              rf_under_cv.mean()]\n",
    "score_std = [logreg_under_cv.std(), tree_under_cv.std(), knn_under_cv.std(),\n",
    "             rf_under_cv.std()]\n",
    "score_recall_score = [recall_score(y_test, logreg_pipe_under.predict(X_test)),\n",
    "            recall_score(y_test, tree_pipe_under.predict(X_test)), \n",
    "            recall_score(y_test, knn_pipe_under.predict(X_test)), \n",
    "            recall_score(y_test, rf_pipe_under.predict(X_test))]\n",
    "method_name = ['Logistic Regression UnderSampling', 'Decision Tree Classifier UnderSampling',\n",
    "              'KNN Classifier UnderSampling', 'Random Forest Classifier UnderSampling']\n",
    "under_summary = pd.DataFrame({\n",
    "    'method': method_name,\n",
    "    'mean score': score_mean,\n",
    "    'std score': score_std,\n",
    "    'recall score': score_recall_score\n",
    "})\n",
    "under_summary"
   ]
  },
  {
   "cell_type": "code",
   "execution_count": 51,
   "metadata": {},
   "outputs": [
    {
     "name": "stdout",
     "output_type": "stream",
     "text": [
      "              precision    recall  f1-score   support\n",
      "\n",
      "           0       0.98      0.73      0.84     15043\n",
      "           1       0.23      0.86      0.36      1400\n",
      "\n",
      "    accuracy                           0.74     16443\n",
      "   macro avg       0.61      0.79      0.60     16443\n",
      "weighted avg       0.92      0.74      0.80     16443\n",
      "\n"
     ]
    }
   ],
   "source": [
    "rf_pipe_under.fit(X_train,y_train)\n",
    "print(classification_report(y_test,rf_pipe_under.predict(X_test)))"
   ]
  },
  {
   "cell_type": "code",
   "execution_count": 52,
   "metadata": {},
   "outputs": [
    {
     "data": {
      "text/plain": [
       "0.7658542942786394"
      ]
     },
     "execution_count": 52,
     "metadata": {},
     "output_type": "execute_result"
    }
   ],
   "source": [
    "logreg_pipe_under.score(X_train,y_train)"
   ]
  },
  {
   "cell_type": "code",
   "execution_count": 53,
   "metadata": {},
   "outputs": [
    {
     "data": {
      "text/plain": [
       "0.7623304749741532"
      ]
     },
     "execution_count": 53,
     "metadata": {},
     "output_type": "execute_result"
    }
   ],
   "source": [
    "logreg_pipe_under.score(X_test,y_test)"
   ]
  },
  {
   "cell_type": "code",
   "execution_count": 54,
   "metadata": {},
   "outputs": [
    {
     "data": {
      "text/plain": [
       "0.7834223901994005"
      ]
     },
     "execution_count": 54,
     "metadata": {},
     "output_type": "execute_result"
    }
   ],
   "source": [
    "rf_pipe_under.score(X_train,y_train)"
   ]
  },
  {
   "cell_type": "code",
   "execution_count": 55,
   "metadata": {},
   "outputs": [
    {
     "data": {
      "text/plain": [
       "0.7432950191570882"
      ]
     },
     "execution_count": 55,
     "metadata": {},
     "output_type": "execute_result"
    }
   ],
   "source": [
    "rf_pipe_under.score(X_test,y_test)"
   ]
  },
  {
   "cell_type": "code",
   "execution_count": 56,
   "metadata": {},
   "outputs": [
    {
     "data": {
      "text/html": [
       "<div>\n",
       "<style scoped>\n",
       "    .dataframe tbody tr th:only-of-type {\n",
       "        vertical-align: middle;\n",
       "    }\n",
       "\n",
       "    .dataframe tbody tr th {\n",
       "        vertical-align: top;\n",
       "    }\n",
       "\n",
       "    .dataframe thead th {\n",
       "        text-align: right;\n",
       "    }\n",
       "</style>\n",
       "<table border=\"1\" class=\"dataframe\">\n",
       "  <thead>\n",
       "    <tr style=\"text-align: right;\">\n",
       "      <th></th>\n",
       "      <th>method</th>\n",
       "      <th>mean score</th>\n",
       "      <th>std score</th>\n",
       "      <th>recall score</th>\n",
       "    </tr>\n",
       "  </thead>\n",
       "  <tbody>\n",
       "    <tr>\n",
       "      <th>0</th>\n",
       "      <td>Logistic Regression OverSampling</td>\n",
       "      <td>0.819455</td>\n",
       "      <td>0.008403</td>\n",
       "      <td>0.801429</td>\n",
       "    </tr>\n",
       "    <tr>\n",
       "      <th>1</th>\n",
       "      <td>Decision Tree Classifier OverSampling</td>\n",
       "      <td>0.419517</td>\n",
       "      <td>0.013540</td>\n",
       "      <td>0.425714</td>\n",
       "    </tr>\n",
       "    <tr>\n",
       "      <th>2</th>\n",
       "      <td>KNN Classifier OverSampling</td>\n",
       "      <td>0.421059</td>\n",
       "      <td>0.017370</td>\n",
       "      <td>0.430714</td>\n",
       "    </tr>\n",
       "    <tr>\n",
       "      <th>3</th>\n",
       "      <td>Random Forest Classifier OverSampling</td>\n",
       "      <td>0.343323</td>\n",
       "      <td>0.011046</td>\n",
       "      <td>0.357143</td>\n",
       "    </tr>\n",
       "  </tbody>\n",
       "</table>\n",
       "</div>"
      ],
      "text/plain": [
       "                                  method  mean score  std score  recall score\n",
       "0       Logistic Regression OverSampling    0.819455   0.008403      0.801429\n",
       "1  Decision Tree Classifier OverSampling    0.419517   0.013540      0.425714\n",
       "2            KNN Classifier OverSampling    0.421059   0.017370      0.430714\n",
       "3  Random Forest Classifier OverSampling    0.343323   0.011046      0.357143"
      ]
     },
     "execution_count": 56,
     "metadata": {},
     "output_type": "execute_result"
    }
   ],
   "source": [
    "ros = RandomOverSampler(random_state = 1212) \n",
    "\n",
    "logreg_pipe_over = Pipeline([('transformer', transformer), ('ros', ros), ('logreg', logreg)])\n",
    "tree_pipe_over = Pipeline([('transformer', transformer), ('ros', ros), ('tree', tree)])\n",
    "knn_pipe_over = Pipeline([('transformer', transformer), ('ros', ros), ('knn', knn)])\n",
    "rf_pipe_over = Pipeline([('transformer', transformer), ('ros', ros), ('rf', rf)])\n",
    "\n",
    "def model_evaluation(model, metric):\n",
    "    skfold = StratifiedKFold(n_splits = 5)\n",
    "    model_cv = cross_val_score(model, X_train, y_train, cv = skfold, scoring = metric)\n",
    "    return model_cv\n",
    "\n",
    "logreg_over_cv = model_evaluation(logreg_pipe_over, 'recall') \n",
    "tree_over_cv = model_evaluation(tree_pipe_over, 'recall')\n",
    "knn_over_cv = model_evaluation(knn_pipe_over, 'recall')\n",
    "rf_over_cv = model_evaluation(rf_pipe_over, 'recall')\n",
    "\n",
    "for model in [logreg_pipe_over, tree_pipe_over, knn_pipe_over, rf_pipe_over]:\n",
    "    model.fit(X_train, y_train)\n",
    "    \n",
    "score_mean = [logreg_over_cv.mean(), tree_over_cv.mean(), knn_over_cv.mean(),\n",
    "              rf_over_cv.mean()]\n",
    "score_std = [logreg_over_cv.std(), tree_over_cv.std(), knn_over_cv.std(),\n",
    "             rf_over_cv.std()]\n",
    "score_recall_score = [recall_score(y_test, logreg_pipe_over.predict(X_test)),\n",
    "            recall_score(y_test, tree_pipe_over.predict(X_test)), \n",
    "            recall_score(y_test, knn_pipe_over.predict(X_test)), \n",
    "            recall_score(y_test, rf_pipe_over.predict(X_test))]\n",
    "method_name = ['Logistic Regression OverSampling', 'Decision Tree Classifier OverSampling',\n",
    "              'KNN Classifier OverSampling', 'Random Forest Classifier OverSampling']\n",
    "over_summary = pd.DataFrame({\n",
    "    'method': method_name,\n",
    "    'mean score': score_mean,\n",
    "    'std score': score_std,\n",
    "    'recall score': score_recall_score\n",
    "})\n",
    "over_summary"
   ]
  },
  {
   "cell_type": "code",
   "execution_count": 57,
   "metadata": {},
   "outputs": [
    {
     "name": "stdout",
     "output_type": "stream",
     "text": [
      "              precision    recall  f1-score   support\n",
      "\n",
      "           0       0.94      0.98      0.96     15043\n",
      "           1       0.62      0.36      0.45      1400\n",
      "\n",
      "    accuracy                           0.93     16443\n",
      "   macro avg       0.78      0.67      0.71     16443\n",
      "weighted avg       0.92      0.93      0.92     16443\n",
      "\n"
     ]
    }
   ],
   "source": [
    "rf_pipe_over.fit(X_train,y_train)\n",
    "print(classification_report(y_test,rf_pipe_over.predict(X_test)))"
   ]
  },
  {
   "cell_type": "code",
   "execution_count": 58,
   "metadata": {},
   "outputs": [
    {
     "data": {
      "text/plain": [
       "0.7679134627916069"
      ]
     },
     "execution_count": 58,
     "metadata": {},
     "output_type": "execute_result"
    }
   ],
   "source": [
    "logreg_pipe_over.score(X_train,y_train)"
   ]
  },
  {
   "cell_type": "code",
   "execution_count": 59,
   "metadata": {},
   "outputs": [
    {
     "data": {
      "text/plain": [
       "0.7644590403211093"
      ]
     },
     "execution_count": 59,
     "metadata": {},
     "output_type": "execute_result"
    }
   ],
   "source": [
    "logreg_pipe_over.score(X_test,y_test)"
   ]
  },
  {
   "cell_type": "code",
   "execution_count": 60,
   "metadata": {},
   "outputs": [],
   "source": [
    "smote = SMOTE(random_state = 1212)\n",
    "logreg_pipe_scale_smote = Pipeline([\n",
    "    ('transformer', transformer),\n",
    "    ('smote', smote),\n",
    "    ('logreg', logreg)\n",
    "])\n",
    "\n",
    "tree_pipe_scale_smote = Pipeline([\n",
    "    ('transformer', transformer),\n",
    "    ('smote', smote),\n",
    "    ('tree', tree)\n",
    "])\n",
    "\n",
    "knn_pipe_scale_smote = Pipeline([\n",
    "    ('transformer', transformer),\n",
    "    ('smote', smote),\n",
    "    ('knn', knn)\n",
    "])\n",
    "\n",
    "rf_pipe_scale_smote = Pipeline([\n",
    "    ('transformer', transformer),\n",
    "    ('smote', smote),\n",
    "    ('rf', rf)\n",
    "])"
   ]
  },
  {
   "cell_type": "code",
   "execution_count": 61,
   "metadata": {},
   "outputs": [
    {
     "data": {
      "text/html": [
       "<div>\n",
       "<style scoped>\n",
       "    .dataframe tbody tr th:only-of-type {\n",
       "        vertical-align: middle;\n",
       "    }\n",
       "\n",
       "    .dataframe tbody tr th {\n",
       "        vertical-align: top;\n",
       "    }\n",
       "\n",
       "    .dataframe thead th {\n",
       "        text-align: right;\n",
       "    }\n",
       "</style>\n",
       "<table border=\"1\" class=\"dataframe\">\n",
       "  <thead>\n",
       "    <tr style=\"text-align: right;\">\n",
       "      <th></th>\n",
       "      <th>method</th>\n",
       "      <th>mean score</th>\n",
       "      <th>std score</th>\n",
       "      <th>recall score</th>\n",
       "    </tr>\n",
       "  </thead>\n",
       "  <tbody>\n",
       "    <tr>\n",
       "      <th>0</th>\n",
       "      <td>Logistic Regression SMOTE</td>\n",
       "      <td>0.802623</td>\n",
       "      <td>0.012640</td>\n",
       "      <td>0.785000</td>\n",
       "    </tr>\n",
       "    <tr>\n",
       "      <th>1</th>\n",
       "      <td>Decision Tree Classifier SMOTE</td>\n",
       "      <td>0.470315</td>\n",
       "      <td>0.020892</td>\n",
       "      <td>0.445000</td>\n",
       "    </tr>\n",
       "    <tr>\n",
       "      <th>2</th>\n",
       "      <td>KNN Classifier SMOTE</td>\n",
       "      <td>0.477057</td>\n",
       "      <td>0.014927</td>\n",
       "      <td>0.489286</td>\n",
       "    </tr>\n",
       "    <tr>\n",
       "      <th>3</th>\n",
       "      <td>Random Forest Classifier SMOTE</td>\n",
       "      <td>0.349751</td>\n",
       "      <td>0.010400</td>\n",
       "      <td>0.360714</td>\n",
       "    </tr>\n",
       "  </tbody>\n",
       "</table>\n",
       "</div>"
      ],
      "text/plain": [
       "                           method  mean score  std score  recall score\n",
       "0       Logistic Regression SMOTE    0.802623   0.012640      0.785000\n",
       "1  Decision Tree Classifier SMOTE    0.470315   0.020892      0.445000\n",
       "2            KNN Classifier SMOTE    0.477057   0.014927      0.489286\n",
       "3  Random Forest Classifier SMOTE    0.349751   0.010400      0.360714"
      ]
     },
     "execution_count": 61,
     "metadata": {},
     "output_type": "execute_result"
    }
   ],
   "source": [
    "def model_evaluation(model, metric):\n",
    "    skfold = StratifiedKFold(n_splits = 5)\n",
    "    model_cv = cross_val_score(model, X_train, y_train, cv = skfold, scoring = metric)\n",
    "    return model_cv\n",
    "\n",
    "logreg_scale_smote_cv = model_evaluation(logreg_pipe_scale_smote, 'recall') \n",
    "tree_scale_smote_cv = model_evaluation(tree_pipe_scale_smote, 'recall')\n",
    "knn_pipe_smote_cv = model_evaluation(knn_pipe_scale_smote, 'recall')\n",
    "rf_pipe_smote_cv = model_evaluation(rf_pipe_scale_smote, 'recall')\n",
    "\n",
    "for model in [logreg_pipe_scale_smote, tree_pipe_scale_smote, knn_pipe_scale_smote, rf_pipe_scale_smote]:\n",
    "    model.fit(X_train, y_train)\n",
    "    \n",
    "score_mean = [logreg_scale_smote_cv.mean(), tree_scale_smote_cv.mean(), knn_pipe_smote_cv.mean(),\n",
    "              rf_pipe_smote_cv.mean()]\n",
    "score_std = [logreg_scale_smote_cv.std(), tree_scale_smote_cv.std(), knn_pipe_smote_cv.std(),\n",
    "             rf_pipe_smote_cv.std()]\n",
    "score_recall_score = [recall_score(y_test, logreg_pipe_scale_smote.predict(X_test)),\n",
    "            recall_score(y_test, tree_pipe_scale_smote.predict(X_test)), \n",
    "            recall_score(y_test, knn_pipe_scale_smote.predict(X_test)), \n",
    "            recall_score(y_test, rf_pipe_scale_smote.predict(X_test))]\n",
    "method_name = ['Logistic Regression SMOTE', 'Decision Tree Classifier SMOTE',\n",
    "              'KNN Classifier SMOTE', 'Random Forest Classifier SMOTE']\n",
    "smote_summary = pd.DataFrame({\n",
    "    'method': method_name,\n",
    "    'mean score': score_mean,\n",
    "    'std score': score_std,\n",
    "    'recall score': score_recall_score\n",
    "})\n",
    "smote_summary    \n",
    "    "
   ]
  },
  {
   "cell_type": "code",
   "execution_count": 62,
   "metadata": {},
   "outputs": [
    {
     "name": "stdout",
     "output_type": "stream",
     "text": [
      "              precision    recall  f1-score   support\n",
      "\n",
      "           0       0.94      0.97      0.96     15043\n",
      "           1       0.57      0.36      0.44      1400\n",
      "\n",
      "    accuracy                           0.92     16443\n",
      "   macro avg       0.75      0.67      0.70     16443\n",
      "weighted avg       0.91      0.92      0.91     16443\n",
      "\n"
     ]
    }
   ],
   "source": [
    "rf_pipe_scale_smote.fit(X_train,y_train)\n",
    "print(classification_report(y_test,rf_pipe_scale_smote.predict(X_test)))"
   ]
  },
  {
   "cell_type": "code",
   "execution_count": 63,
   "metadata": {},
   "outputs": [],
   "source": [
    "# Boosting\n",
    "from sklearn.ensemble import AdaBoostClassifier, GradientBoostingClassifier\n",
    "from xgboost.sklearn import XGBClassifier"
   ]
  },
  {
   "cell_type": "code",
   "execution_count": 64,
   "metadata": {},
   "outputs": [],
   "source": [
    "adaboost = AdaBoostClassifier(\n",
    "            tree,\n",
    "            n_estimators = 50,\n",
    "            learning_rate = 0.1,\n",
    "            random_state = 1212)\n",
    "\n",
    "\n",
    "pipe_ada = Pipeline([\n",
    "    ('transformer', transformer),\n",
    "    ('adaboost', adaboost)\n",
    "])\n",
    "\n",
    "gradboost = GradientBoostingClassifier(\n",
    "            n_estimators = 50,\n",
    "            learning_rate = 0.1,\n",
    "            max_depth = 3,\n",
    "            random_state = 1212)\n",
    "\n",
    "pipe_grad = Pipeline([\n",
    "    ('transformer', transformer),\n",
    "    ('gradboost', gradboost)\n",
    "])\n",
    "\n",
    "XGBOOST = XGBClassifier(\n",
    "            n_estimators = 50,\n",
    "            learning_rate = 0.1,\n",
    "            max_depth = 3,\n",
    "            random_state = 1212)\n",
    "\n",
    "pipe_XGB = Pipeline([\n",
    "    ('transformer', transformer),\n",
    "    ('XGBOOST', XGBOOST)\n",
    "])"
   ]
  },
  {
   "cell_type": "code",
   "execution_count": 65,
   "metadata": {},
   "outputs": [
    {
     "name": "stdout",
     "output_type": "stream",
     "text": [
      "[18:36:52] WARNING: /Users/travis/build/dmlc/xgboost/src/learner.cc:1061: Starting in XGBoost 1.3.0, the default evaluation metric used with the objective 'binary:logistic' was changed from 'error' to 'logloss'. Explicitly set eval_metric if you'd like to restore the old behavior.\n"
     ]
    },
    {
     "data": {
      "text/html": [
       "<div>\n",
       "<style scoped>\n",
       "    .dataframe tbody tr th:only-of-type {\n",
       "        vertical-align: middle;\n",
       "    }\n",
       "\n",
       "    .dataframe tbody tr th {\n",
       "        vertical-align: top;\n",
       "    }\n",
       "\n",
       "    .dataframe thead th {\n",
       "        text-align: right;\n",
       "    }\n",
       "</style>\n",
       "<table border=\"1\" class=\"dataframe\">\n",
       "  <thead>\n",
       "    <tr style=\"text-align: right;\">\n",
       "      <th></th>\n",
       "      <th>method</th>\n",
       "      <th>mean score</th>\n",
       "      <th>std score</th>\n",
       "      <th>recall score</th>\n",
       "    </tr>\n",
       "  </thead>\n",
       "  <tbody>\n",
       "    <tr>\n",
       "      <th>0</th>\n",
       "      <td>Ada Boost Classifier</td>\n",
       "      <td>0.423795</td>\n",
       "      <td>0.023405</td>\n",
       "      <td>0.424286</td>\n",
       "    </tr>\n",
       "    <tr>\n",
       "      <th>1</th>\n",
       "      <td>Gradient Boost Classifier</td>\n",
       "      <td>0.246318</td>\n",
       "      <td>0.015332</td>\n",
       "      <td>0.237857</td>\n",
       "    </tr>\n",
       "    <tr>\n",
       "      <th>2</th>\n",
       "      <td>XGB Classifier</td>\n",
       "      <td>0.207765</td>\n",
       "      <td>0.013348</td>\n",
       "      <td>0.215714</td>\n",
       "    </tr>\n",
       "  </tbody>\n",
       "</table>\n",
       "</div>"
      ],
      "text/plain": [
       "                      method  mean score  std score  recall score\n",
       "0       Ada Boost Classifier    0.423795   0.023405      0.424286\n",
       "1  Gradient Boost Classifier    0.246318   0.015332      0.237857\n",
       "2             XGB Classifier    0.207765   0.013348      0.215714"
      ]
     },
     "execution_count": 65,
     "metadata": {},
     "output_type": "execute_result"
    }
   ],
   "source": [
    "def model_evaluation(model, metric):\n",
    "    skfold = StratifiedKFold(n_splits = 5)\n",
    "    model_cv = cross_val_score(model, X_train, y_train, cv = skfold, scoring = metric, n_jobs = -1)\n",
    "    return model_cv\n",
    "\n",
    "pipe_ada_cv = model_evaluation(pipe_ada, 'recall')\n",
    "pipe_grad_cv = model_evaluation(pipe_grad, 'recall')\n",
    "pipe_XGB_cv = model_evaluation(pipe_XGB, 'recall')\n",
    "\n",
    "\n",
    "for model in [pipe_ada, pipe_grad, pipe_XGB]:\n",
    "    model.fit(X_train, y_train)\n",
    "    \n",
    "score_mean = [pipe_ada_cv.mean(), pipe_grad_cv.mean(), pipe_XGB_cv.mean()]\n",
    "score_std = [pipe_ada_cv.std(), pipe_grad_cv.std(), pipe_XGB_cv.std()]\n",
    "score_recall_score = [recall_score(y_test, pipe_ada.predict(X_test)),\n",
    "            recall_score(y_test, pipe_grad.predict(X_test)), \n",
    "            recall_score(y_test, pipe_XGB.predict(X_test))]\n",
    "method_name = ['Ada Boost Classifier', 'Gradient Boost Classifier',\n",
    "              'XGB Classifier']\n",
    "boost_summary = pd.DataFrame({\n",
    "    'method': method_name,\n",
    "    'mean score': score_mean,\n",
    "    'std score': score_std,\n",
    "    'recall score': score_recall_score\n",
    "})\n",
    "boost_summary    "
   ]
  },
  {
   "cell_type": "code",
   "execution_count": 66,
   "metadata": {},
   "outputs": [
    {
     "name": "stdout",
     "output_type": "stream",
     "text": [
      "[18:36:57] WARNING: /Users/travis/build/dmlc/xgboost/src/learner.cc:1061: Starting in XGBoost 1.3.0, the default evaluation metric used with the objective 'binary:logistic' was changed from 'error' to 'logloss'. Explicitly set eval_metric if you'd like to restore the old behavior.\n",
      "              precision    recall  f1-score   support\n",
      "\n",
      "           0       0.93      1.00      0.96     15043\n",
      "           1       0.99      0.22      0.35      1400\n",
      "\n",
      "    accuracy                           0.93     16443\n",
      "   macro avg       0.96      0.61      0.66     16443\n",
      "weighted avg       0.94      0.93      0.91     16443\n",
      "\n"
     ]
    }
   ],
   "source": [
    "pipe_XGB.fit(X_train,y_train)\n",
    "print(classification_report(y_test,pipe_XGB.predict(X_test)))"
   ]
  },
  {
   "cell_type": "code",
   "execution_count": 67,
   "metadata": {},
   "outputs": [],
   "source": [
    "# estimator = Pipeline([\n",
    "#     ('transformer', transformer),\n",
    "#     ('ros', ros),\n",
    "#     ('model', logreg)\n",
    "# ])\n",
    "\n",
    "# hyperparam_space = {\n",
    "#     'model__C': [100, 10, 1, 0.1, 0.01, 0.001],\n",
    "#     'model__solver': ['newton-cg', 'lbfgs', 'sag', 'saga'],\n",
    "#     'model__random_state' : [1212]\n",
    "# }\n",
    "\n",
    "# random = RandomizedSearchCV(\n",
    "#                 estimator,\n",
    "#                 param_distributions = hyperparam_space,\n",
    "#                 cv = StratifiedKFold(n_splits = 5),\n",
    "#                 scoring = 'recall',\n",
    "#                 n_iter = 10,\n",
    "#                 n_jobs = -1)\n",
    "\n",
    "# random.fit(X_train, y_train)\n",
    "\n",
    "# print('best score', random.best_score_)\n",
    "# print('best param', random.best_params_)"
   ]
  },
  {
   "cell_type": "code",
   "execution_count": 69,
   "metadata": {},
   "outputs": [],
   "source": [
    "# random.best_estimator_.fit(X_train,y_train)\n",
    "# print(classification_report(y_test,random.best_estimator_.predict(X_test)))"
   ]
  },
  {
   "cell_type": "code",
   "execution_count": 71,
   "metadata": {},
   "outputs": [
    {
     "name": "stdout",
     "output_type": "stream",
     "text": [
      "best score 0.8246535631828633\n",
      "best param {'model__C': 0.1, 'model__random_state': 1212, 'model__solver': 'newton-cg'}\n"
     ]
    }
   ],
   "source": [
    "estimator = Pipeline([\n",
    "    ('transformer', transformer),\n",
    "    ('ros', ros),\n",
    "    ('model', logreg)\n",
    "])\n",
    "\n",
    "hyperparam_space = {\n",
    "    'model__C': [100, 10, 1, 0.1, 0.01, 0.001],\n",
    "    'model__solver': ['newton-cg', 'lbfgs', 'sag', 'saga'],\n",
    "    'model__random_state' : [1212]\n",
    "}\n",
    "\n",
    "grid_search = GridSearchCV(\n",
    "                estimator,\n",
    "                param_grid = hyperparam_space,\n",
    "                cv = StratifiedKFold(n_splits = 5),\n",
    "                scoring = 'recall',\n",
    "                n_jobs = -1)\n",
    "\n",
    "grid_search.fit(X_train, y_train)\n",
    "\n",
    "print('best score', grid_search.best_score_)\n",
    "print('best param', grid_search.best_params_)"
   ]
  },
  {
   "cell_type": "code",
   "execution_count": 72,
   "metadata": {},
   "outputs": [
    {
     "name": "stdout",
     "output_type": "stream",
     "text": [
      "              precision    recall  f1-score   support\n",
      "\n",
      "           0       0.98      0.76      0.85     15043\n",
      "           1       0.23      0.80      0.36      1400\n",
      "\n",
      "    accuracy                           0.76     16443\n",
      "   macro avg       0.61      0.78      0.61     16443\n",
      "weighted avg       0.91      0.76      0.81     16443\n",
      "\n"
     ]
    }
   ],
   "source": [
    "grid_search.fit(X_train,y_train)\n",
    "print(classification_report(y_test,grid_search.predict(X_test)))"
   ]
  },
  {
   "cell_type": "markdown",
   "metadata": {},
   "source": [
    "Dari beberapa percobaan Modelling dan Resampling Data, untuk finalnya saya memilih Modelling Logistic Regression dengan Resampling RandomOverSampler, dan juga dilakukan Hyperparam tuning "
   ]
  },
  {
   "cell_type": "markdown",
   "metadata": {},
   "source": [
    "### Deployment"
   ]
  },
  {
   "cell_type": "code",
   "execution_count": 75,
   "metadata": {},
   "outputs": [],
   "source": [
    "import pickle"
   ]
  },
  {
   "cell_type": "code",
   "execution_count": 76,
   "metadata": {},
   "outputs": [
    {
     "data": {
      "text/plain": [
       "Pipeline(steps=[('transformer',\n",
       "                 ColumnTransformer(remainder='passthrough',\n",
       "                                   transformers=[('binary',\n",
       "                                                  Pipeline(steps=[('encoder',\n",
       "                                                                   SimpleImputer(strategy='most_frequent')),\n",
       "                                                                  ('binary '\n",
       "                                                                   'encoder',\n",
       "                                                                   BinaryEncoder())]),\n",
       "                                                  ['region']),\n",
       "                                                 ('mode_onehot_pipe',\n",
       "                                                  Pipeline(steps=[('encoder',\n",
       "                                                                   SimpleImputer(strategy='most_frequent')),\n",
       "                                                                  ('one hot '\n",
       "                                                                   'encoder',\n",
       "                                                                   OneHotEncoder(handle_unknown...\n",
       "                                                   'department']),\n",
       "                                                 ('median imputer',\n",
       "                                                  Pipeline(steps=[('impute',\n",
       "                                                                   SimpleImputer(strategy='median')),\n",
       "                                                                  ('scaling',\n",
       "                                                                   RobustScaler())]),\n",
       "                                                  ['previous_year_rating']),\n",
       "                                                 ('scaler', RobustScaler(),\n",
       "                                                  ['age', 'length_of_service',\n",
       "                                                   'avg_training_score',\n",
       "                                                   'no_of_trainings'])])),\n",
       "                ('ros', RandomOverSampler(random_state=1212)),\n",
       "                ('model',\n",
       "                 LogisticRegression(C=0.1, random_state=1212,\n",
       "                                    solver='newton-cg'))])"
      ]
     },
     "execution_count": 76,
     "metadata": {},
     "output_type": "execute_result"
    }
   ],
   "source": [
    "grid_search.best_estimator_.fit(X, y)"
   ]
  },
  {
   "cell_type": "code",
   "execution_count": 78,
   "metadata": {},
   "outputs": [],
   "source": [
    "file_name = 'hr-analytic-grid.sav'\n",
    "\n",
    "pickle.dump(grid_search.best_estimator_, open(file_name,'wb'))"
   ]
  },
  {
   "cell_type": "code",
   "execution_count": 79,
   "metadata": {},
   "outputs": [
    {
     "data": {
      "text/plain": [
       "array([1, 1, 0, ..., 0, 1, 0])"
      ]
     },
     "execution_count": 79,
     "metadata": {},
     "output_type": "execute_result"
    }
   ],
   "source": [
    "loaded_model = pickle.load(open(file_name,'rb'))\n",
    "loaded_model.predict(X_test)"
   ]
  },
  {
   "cell_type": "code",
   "execution_count": 80,
   "metadata": {},
   "outputs": [
    {
     "name": "stdout",
     "output_type": "stream",
     "text": [
      "<class 'pandas.core.frame.DataFrame'>\n",
      "RangeIndex: 54808 entries, 0 to 54807\n",
      "Data columns (total 13 columns):\n",
      " #   Column                Non-Null Count  Dtype  \n",
      "---  ------                --------------  -----  \n",
      " 0   department            54808 non-null  object \n",
      " 1   region                54808 non-null  object \n",
      " 2   education             52399 non-null  object \n",
      " 3   gender                54808 non-null  object \n",
      " 4   recruitment_channel   54808 non-null  object \n",
      " 5   no_of_trainings       54808 non-null  int64  \n",
      " 6   age                   54808 non-null  int64  \n",
      " 7   previous_year_rating  50684 non-null  float64\n",
      " 8   length_of_service     54808 non-null  int64  \n",
      " 9   KPIs_met >80%         54808 non-null  int64  \n",
      " 10  awards_won?           54808 non-null  int64  \n",
      " 11  avg_training_score    54808 non-null  int64  \n",
      " 12  is_promoted           54808 non-null  int64  \n",
      "dtypes: float64(1), int64(7), object(5)\n",
      "memory usage: 5.4+ MB\n"
     ]
    }
   ],
   "source": [
    "df_model.info()"
   ]
  },
  {
   "cell_type": "code",
   "execution_count": 81,
   "metadata": {},
   "outputs": [
    {
     "data": {
      "text/plain": [
       "1     44378\n",
       "2      7987\n",
       "3      1776\n",
       "4       468\n",
       "5       128\n",
       "6        44\n",
       "7        12\n",
       "10        5\n",
       "9         5\n",
       "8         5\n",
       "Name: no_of_trainings, dtype: int64"
      ]
     },
     "execution_count": 81,
     "metadata": {},
     "output_type": "execute_result"
    }
   ],
   "source": [
    "df_model.no_of_trainings.value_counts()"
   ]
  },
  {
   "cell_type": "markdown",
   "metadata": {},
   "source": [
    "### Prediction"
   ]
  },
  {
   "cell_type": "code",
   "execution_count": 82,
   "metadata": {},
   "outputs": [],
   "source": [
    "hr_pred = pd.DataFrame({\n",
    "    'department': ['Finance'],\n",
    "    'region': ['region_4'],\n",
    "    'education': [\"Bachelor's\"],\n",
    "    'gender': ['m'],\n",
    "    'recruitment_channel': ['sourcing'],\n",
    "    'no_of_trainings' : [4],\n",
    "    'age': [35],\n",
    "    'previous_year_rating': [4.0],\n",
    "    'length_of_service': [10],\n",
    "    'KPIs_met >80%': [0],\n",
    "    'awards_won?': [0],\n",
    "    'avg_training_score' : [90]\n",
    "})"
   ]
  },
  {
   "cell_type": "code",
   "execution_count": 83,
   "metadata": {},
   "outputs": [
    {
     "data": {
      "text/html": [
       "<div>\n",
       "<style scoped>\n",
       "    .dataframe tbody tr th:only-of-type {\n",
       "        vertical-align: middle;\n",
       "    }\n",
       "\n",
       "    .dataframe tbody tr th {\n",
       "        vertical-align: top;\n",
       "    }\n",
       "\n",
       "    .dataframe thead th {\n",
       "        text-align: right;\n",
       "    }\n",
       "</style>\n",
       "<table border=\"1\" class=\"dataframe\">\n",
       "  <thead>\n",
       "    <tr style=\"text-align: right;\">\n",
       "      <th></th>\n",
       "      <th>department</th>\n",
       "      <th>region</th>\n",
       "      <th>education</th>\n",
       "      <th>gender</th>\n",
       "      <th>recruitment_channel</th>\n",
       "      <th>no_of_trainings</th>\n",
       "      <th>age</th>\n",
       "      <th>previous_year_rating</th>\n",
       "      <th>length_of_service</th>\n",
       "      <th>KPIs_met &gt;80%</th>\n",
       "      <th>awards_won?</th>\n",
       "      <th>avg_training_score</th>\n",
       "    </tr>\n",
       "  </thead>\n",
       "  <tbody>\n",
       "    <tr>\n",
       "      <th>0</th>\n",
       "      <td>Finance</td>\n",
       "      <td>region_4</td>\n",
       "      <td>Bachelor's</td>\n",
       "      <td>m</td>\n",
       "      <td>sourcing</td>\n",
       "      <td>4</td>\n",
       "      <td>35</td>\n",
       "      <td>4.0</td>\n",
       "      <td>10</td>\n",
       "      <td>0</td>\n",
       "      <td>0</td>\n",
       "      <td>90</td>\n",
       "    </tr>\n",
       "  </tbody>\n",
       "</table>\n",
       "</div>"
      ],
      "text/plain": [
       "  department    region   education gender recruitment_channel  \\\n",
       "0    Finance  region_4  Bachelor's      m            sourcing   \n",
       "\n",
       "   no_of_trainings  age  previous_year_rating  length_of_service  \\\n",
       "0                4   35                   4.0                 10   \n",
       "\n",
       "   KPIs_met >80%  awards_won?  avg_training_score  \n",
       "0              0            0                  90  "
      ]
     },
     "execution_count": 83,
     "metadata": {},
     "output_type": "execute_result"
    }
   ],
   "source": [
    "hr_pred"
   ]
  },
  {
   "cell_type": "code",
   "execution_count": 84,
   "metadata": {},
   "outputs": [
    {
     "data": {
      "text/plain": [
       "array([1])"
      ]
     },
     "execution_count": 84,
     "metadata": {},
     "output_type": "execute_result"
    }
   ],
   "source": [
    "loaded_model.predict(hr_pred)"
   ]
  },
  {
   "cell_type": "code",
   "execution_count": 85,
   "metadata": {},
   "outputs": [
    {
     "data": {
      "text/plain": [
       "array([[0.00496655, 0.99503345]])"
      ]
     },
     "execution_count": 85,
     "metadata": {},
     "output_type": "execute_result"
    }
   ],
   "source": [
    "loaded_model.predict_proba(hr_pred)"
   ]
  },
  {
   "cell_type": "code",
   "execution_count": 105,
   "metadata": {},
   "outputs": [],
   "source": [
    "# df_model[:100].to_html('/Users/rezkydwiseptiyan/Documents/Purwadhika Data Science/Final Project/df_model.html')"
   ]
  }
 ],
 "metadata": {
  "kernelspec": {
   "display_name": "Python 3",
   "language": "python",
   "name": "python3"
  },
  "language_info": {
   "codemirror_mode": {
    "name": "ipython",
    "version": 3
   },
   "file_extension": ".py",
   "mimetype": "text/x-python",
   "name": "python",
   "nbconvert_exporter": "python",
   "pygments_lexer": "ipython3",
   "version": "3.8.3"
  }
 },
 "nbformat": 4,
 "nbformat_minor": 4
}
